{
 "cells": [
  {
   "cell_type": "markdown",
   "metadata": {},
   "source": [
    "# Concentration solaire avec du plastique recyclé"
   ]
  },
  {
   "cell_type": "markdown",
   "metadata": {},
   "source": [
    "Idée en cours d'amélioration. L'objectif serait de s'inspirer de la [LyteFire](https://lytefire.com/en), poussée également par [SolarFire](https://solar-fire-france.fr/). La photo suivante est tirée de leur site web:"
   ]
  },
  {
   "cell_type": "markdown",
   "metadata": {},
   "source": [
    "```{image} ../images/Lytefire.png\n",
    ":alt: lytefire\n",
    ":class: bg-primary mb-1\n",
    ":width: 800px\n",
    ":align: center\n",
    "```"
   ]
  },
  {
   "cell_type": "markdown",
   "metadata": {},
   "source": [
    "## Plastique recyclé"
   ]
  },
  {
   "cell_type": "markdown",
   "metadata": {},
   "source": [
    "L'usage du plastique comme matière première se généralise: disponible partout sous forme de déchet, il est important de le stocker et de lui trouver une utilisation. Aujourd'hui, il finit surtout brûlé, ce qui est dommage face aux possibilités offertes par ce matériau. \n",
    "\n",
    "Des exemples sont fournis par [Precious Plastic](https://preciousplastic.com/solutions/machines/basic.html). Une description en français peut être trouvée [ici](https://www.ducotedechezvous.com/article/precious-plastic-3-alternatives-artisanales-au-moulage/). L'objectif serait de fabriquer une Lytefire, avec des miroirs portés par une structure en plastique recyclé. Il est ensuite possible d'apposer le [réflecteur de Solar Brother](https://www.solarbrother.com/acheter/reflecteur-solaire-adhesif-s-reflect-200/). Deux vis permettrait de viser un four permettant la fonte du plastique, ou encore d'autres possibilités.\n",
    "\n",
    "Une fois cette source d'énergie disponible, il serait possible de fabriquer des paraboles en plastique recyclé, afin de faire de l'énergie solaire thermique active. Cela nécessite la compréhension et l'appropriation de ce matériau, ainsi que la fabrication de moules."
   ]
  },
  {
   "cell_type": "code",
   "execution_count": null,
   "metadata": {},
   "outputs": [],
   "source": []
  }
 ],
 "metadata": {
  "kernelspec": {
   "display_name": "Python 3",
   "language": "python",
   "name": "python3"
  },
  "language_info": {
   "codemirror_mode": {
    "name": "ipython",
    "version": 3
   },
   "file_extension": ".py",
   "mimetype": "text/x-python",
   "name": "python",
   "nbconvert_exporter": "python",
   "pygments_lexer": "ipython3",
   "version": "3.8.3"
  }
 },
 "nbformat": 4,
 "nbformat_minor": 4
}