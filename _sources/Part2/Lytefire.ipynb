{
 "cells": [
  {
   "cell_type": "markdown",
   "metadata": {},
   "source": [
    "# Four solaire puissant & maison"
   ]
  },
  {
   "cell_type": "markdown",
   "metadata": {},
   "source": [
    "sans implémentation automatique du tracking, il est nécessaire de faire le tracking soi-même. Par conséquent, il faut connaître les angles auxquels il faut incliner les miroirs. Dans le schéma proposé, il est possible de bouger une barre en bois (d'un angle $\\beta$ positif vers l'arrière) et chaque miroir $M_i$ d'un angle $\\alpha_i$. Comment calculer ces angles? Nous présentons ici certains calculs sensés optimiser cela, si bien faits cela s'entend. Dans un autre notebook, nous proposerons un calcul rapide de ces angles, afin de pouvoir optimiser sur le terrain. A cette fin, il est possible de faire tourner des notebooks Jupyter sur son téléphone, voir [ici](https://manis1604.medium.com/jupyter-notebook-for-android-6f93268e504e). Lien en anglais."
   ]
  },
  {
   "cell_type": "markdown",
   "metadata": {},
   "source": [
    "**/!\\ /!\\ : on parle ici d'une puissance élevé, cela nécessite donc de faire attention. Il est recommandé de:**\n",
    "1. Ne pas passer devant les rayons, au niveau du point focal -> besoin d'une entrée par l'arrière.\n",
    "2. Installer un occulteur sur les côtés et le dessus du four, afin que des rayons mal convergés n'aillent pas dans les yeux ou sur le corps des personnes manipulant le four.\n",
    "3. Orienter les miroirs vers le bas lorsque non utilisé.\n",
    "4. Vérifier le dégazage des matériaux de construction: des gazs peuvent être émis lors de la chauffe de matériau, il est nécessaire de se renseigner avant de les utiliser; par exemple, de la peinture dans le four semble une mauvaise idée!"
   ]
  },
  {
   "cell_type": "markdown",
   "metadata": {},
   "source": [
    "## Méthodologie design du four"
   ]
  },
  {
   "cell_type": "markdown",
   "metadata": {},
   "source": [
    "Les questions à se poser pour le four sont:\n",
    "\n",
    "1. Son inertie thermique\n",
    "\n",
    "2. Ses pertes thermiques\n",
    "\n",
    "En jouant sur ces deux paramètres, il est possible de calculer la puissance solaire en entrée nécessaire, vis à vis du temps de chauffe, et ensuite le besoin pour le garder à la bonne température. Cela se base sur deux estimations, dont nous détaillons les calculs ci-dessous. Plusieurs questions que l'on peut se poser: Combien de temps mon four prendra-t-il à chauffer? Combien de temps restera-t-il chaud quand il n'y aura plus de soleil? Quels matériaux utiliser, quels sont leurs intérêts respectifs?\n",
    "\n",
    "L'équation de base que l'on peut écrire, sous forme différentielle, est: $m*C_p*\\frac{dT}{dt}=P_{in}-q_{pertes}(T)$, avec $m*C_p$ le terme d'inertie thermique détaillé dans la section ci-dessous, $T$ la temmpérature du four, $P_{in}$ est la puissance en entrée (venant des miroirs), $q_{pertes}$ correspond aux pertes thermiques du four.\n",
    "\n",
    "Une bonne approximation de cette équation est: $m*C_p*\\frac{\\Delta T}{\\Delta t} = P_{in}-q_{losses}(T)$, avec $\\Delta T$ la différence de température entre deux instants, chacun éloigné de $\\Delta t$. \n",
    "\n",
    "Il est à noter que cette équation marche pour tous les fours - on peut relier cela au préchauffage des fours traditionnels, ainsi que leur puissance et leur temps de chauffe, pour se faire une idée. Un four à pain traditionnel peut prendre jusqu'à trois jours pour chauffer! Une automatisation du tracking permettrait d'avoir accès à un four communale tournant la grande majorité du temps à l'énergie solaire, peut-être un jour?"
   ]
  },
  {
   "cell_type": "markdown",
   "metadata": {},
   "source": [
    "### Inertie thermique"
   ]
  },
  {
   "cell_type": "markdown",
   "metadata": {},
   "source": [
    "Le terme d'inertie thermique correspond à $m*C_p$. **m** est la masse du four et $C_p$ la capacité calorifique du matériau utilisé. Cette dernière correspond à l'énergie nécessaire (en joules) pour faire monter de 1°C un kilogramme de matériau. Quelques données, pour l'exemple: l'eau présente un $C_p=4187 J/kg.°C$, la terre présente un $C_p$ d'environ $1000 J/kg.°C$, les roches montrent de grandes variations selon leur origine, mais leur $C_p$ est en général entre 800 et 2400 J/kg.°C."
   ]
  },
  {
   "cell_type": "markdown",
   "metadata": {},
   "source": [
    "Pour calculer l'inertie thermique, il faut donc calculer les différentes masses et trouver sur internet leurs différentes capacités thermiques, puis sommer pour chaque matériau le produit des masses par leur $C_p$."
   ]
  },
  {
   "cell_type": "markdown",
   "metadata": {},
   "source": [
    "**Exemple:** On prend un four, cubique, de côté 55cm, fait en terre avec une épaisseur de 5cm de terre. On commence par calculer le volume de terre: on prend donc le volume d'un cube de 55cm de côté, moins le volume d'un cube de 50cm (l'air au milieu). Cela donne: $V_{terre} = 0.55^3-0.5^3 = 0.041 m^3 = 41 L$. La masse de terre est alors: $m_{Terre} = \\rho_{Terre}*V_{terre} = 1500 * 0.041 = 62 kg$. La masse volumique de la terre et sa capacité spécifique viennent d'[ici](https://fr.wikipedia.org/wiki/Terre_crue).\n",
    "\n",
    "Sa chaleur spécifique est de $C_p=900 J/kg.°C$. Son inertie thermique s'évaluera alors comme: $I_t = m_{Terre}*C_p = 62*900 = 56 kJ/°C$"
   ]
  },
  {
   "cell_type": "code",
   "execution_count": 1,
   "metadata": {},
   "outputs": [
    {
     "name": "stdout",
     "output_type": "stream",
     "text": [
      "Volume de terre:  41.37500000000005  L\n",
      "Masse de terre:  62.06250000000008  kg\n",
      "Inertie du four:  55856.25000000007  J/°C\n"
     ]
    }
   ],
   "source": [
    "cCube = 0.55 #en m\n",
    "eTerre=0.05 #en m\n",
    "VTerre=cCube**3-(cCube-eTerre)**3 #en m^3\n",
    "print(\"Volume de terre: \", VTerre*1000,\" L\")\n",
    "rhoTerre=1500 #en kg/m3\n",
    "mTerre= rhoTerre*VTerre\n",
    "print(\"Masse de terre: \", mTerre, \" kg\")\n",
    "CpTerre = 900\n",
    "ItFour = mTerre*CpTerre\n",
    "print(\"Inertie du four: \", ItFour, \" J/°C\")"
   ]
  },
  {
   "cell_type": "markdown",
   "metadata": {},
   "source": [
    "Il faut donc amener 56kJ d'énergie pour faire monter de 1° le four."
   ]
  },
  {
   "cell_type": "markdown",
   "metadata": {},
   "source": [
    "### Pertes thermiques"
   ]
  },
  {
   "cell_type": "markdown",
   "metadata": {},
   "source": [
    "Ces pertes thermiques s'écrivent en général $U*A*(T_{four}-T_{ext})$. A est l'aire extérieure, facile à déterminer, et $\\Delta T = T_{four}-T_{ext}$ la différence de température entre l'intérieur du four et l'extérieur. U est le coefficient de pertes thermiques, en W/m².°C, plus difficile à déterminer: pour cela, il faut faire un calcul de résistance thermique, ce qui est fait classiquement via la relation:\n",
    "$U = \\frac{1}{R_{eq}} =  \\frac{1}{\\sum_i R_i}$. \n",
    "\n",
    "Pour calculer les résistances thermiques, il faut connaître les conductivités $\\lambda_i$ des différentes couches de matériaux. Ensuite, chaque résistance s'écrira comme $\\frac{e_i}{\\lambda_i}$ avec $e_i$ l'épaisseur du matériau. Il faut également ajouter comme résistance thermique le coefficient de convection entre la paroi extérieur et l'air, noté $h_{ext}$. Ce dernier est en général égal à 10W/m².°C.\n",
    "\n",
    "On obtient alors: $U= \\frac{1}{ \\frac{1}{h_{ext}}+\\sum_i \\frac{e_i}{\\lambda_i}}$"
   ]
  },
  {
   "cell_type": "markdown",
   "metadata": {},
   "source": [
    "On peut alors calculer le temps de descente de la température si il n'y a pas de source de chaleur, ce qui équivaut à $P_{in}=0$: le temps caractéristique s'écrit $\\tau = \\frac{I_t}{UA}$, et la résolution de l'équation différentielle ci-dessus donne: $T=T_{ext}+(T_0-T_{ext})*\\exp(-\\frac{t}{\\tau})$. Une estimation rapide de l'exponentielle nous permet de se dire que durant $\\tau$, la différence de température sera divisé par 3."
   ]
  },
  {
   "cell_type": "markdown",
   "metadata": {},
   "source": [
    "**Exemple:** Pour le four en terre défini ci-dessus, avec une conductivité de la terre valant $\\lambda_{terre} = 0.7W/m.°C$, on obtient: $U = \\frac{1}{\\frac{1}{10}+\\frac{0.05}{0.7}} = 5.8W/m².°C$ \n",
    "L'aire extérieure du four se calcule avec $A=6*c² = 1.8 m² $. On voit alors, que pour une différence de température de 150°C, il y aura une perte de $q_{pertes} = 1588W$. Pour garder ce four à cette  température, il faudra donc apporter 1.5 kW d'énergie thermique. Si on ne lui apporte plus de chaleur, il redescendra à une différence de température de 50°C au bout de : $\\tau = 1.5h$\n",
    "\n",
    "Si l'on ajoute une couche de paille de 5cm isolant, on obtient alors de bien meilleurs résultats: en effet, la conductivité de la paille est de 0.052 W/m.°C, ce qui donne un temps caractéristique $\\tau = 9.7h$."
   ]
  },
  {
   "cell_type": "code",
   "execution_count": 3,
   "metadata": {},
   "outputs": [
    {
     "name": "stdout",
     "output_type": "stream",
     "text": [
      "Coefficient de pertes thermiques U:  0.8826382153249271  W/m².°C\n",
      "Aire extérieure du four A:  1.8150000000000004 m²\n",
      "Pertes thermiques du four:  1.6019883608147432 W/°C\n",
      "Pertes à 150°C:  240.29825412221146 W\n",
      "Temps caractéristique:  9.6852295431841 h\n"
     ]
    }
   ],
   "source": [
    "lambdaTerre = 0.7\n",
    "ePaille=0.05\n",
    "lambdaPaille=0.052\n",
    "UFour = 1/(1/10+eTerre/lambdaTerre+ePaille/lambdaPaille)\n",
    "print(\"Coefficient de pertes thermiques U: \",UFour, \" W/m².°C\")\n",
    "AFour = 6*cCube**2\n",
    "print(\"Aire extérieure du four A: \", AFour, \"m²\")\n",
    "UA=UFour*AFour\n",
    "print(\"Pertes thermiques du four: \", UA, \"W/°C\")\n",
    "deltaT=150\n",
    "print(\"Pertes à 150°C: \", UA*deltaT, \"W\")\n",
    "tau=ItFour/(UA)/3600\n",
    "print(\"Temps caractéristique: \",tau, \"h\")\n"
   ]
  },
  {
   "cell_type": "markdown",
   "metadata": {},
   "source": [
    "#### Estimation plus précise"
   ]
  },
  {
   "cell_type": "markdown",
   "metadata": {},
   "source": [
    "![Four](../images/fourSolaire.png)"
   ]
  },
  {
   "cell_type": "markdown",
   "metadata": {},
   "source": [
    "Il faut calculer pour chacun des côtés du four. A l'instant, le design envisagé est de mettre un four (cassé) avec le dos au soleil: il sera chauffé par la face arrière, le côté vitre classique conservera son rôle d'ouverture. Les trois autres côtés seront mis en masse (terre) et erenforcé en isolant. La face arrière sera elle dénudé, permettant une absorption de la chaleur solaire, et une diffuséion dans le four et la masse thermique. Une vitre sera déposé devant afin de servir d'isolant à la face arrière, fixé par le mélange de terre et paille utilisé comme masse et isolant.\n"
   ]
  },
  {
   "cell_type": "markdown",
   "metadata": {},
   "source": [
    "Calcul des résistances thermiques des trois types de côtés:\n",
    "1. Face avant du four: pris [ici](http://www.vaucanson.org/php5/Accueil/index.php/comment-minimiser-les-pertes-d-energie/809-comment-estimer-la-resistance-thermique-du-four). Sa résistance thermique est de $R_{eq}=0.39 m².°C/W$, et donc de $U_{avant} = 2.5 W/m².°C$.\n",
    "2. Face arrière du four: 1 épaisseur de verre - $\\lambda_V = 1 W/M.°C$,$e_V=4mm$ -, 3 interconnections avec l'air: métal-air,air-verre,verre-air, avec $h=10 W/m².°C$. D'où une résistance thermique de : $R_{eq} = 3*\\frac{1}{h}+\\frac{e_V}{\\lambda_V} = 0.34 K.m²/W$ et $U_{arrière} = \\frac{1}{R_{eq}} = 2.94 W/m².°C$. \n",
    "3. 3 faces sur le côté enrobé dans de la terre, paille - pertes par radiation déjà isolée probablement. On suppose que la première isolation est de 0.1W/m².°C (souvent pas ouf). On part sur une épaisseur de terre de 5 cm et de 3cm de paille, ce qui donne:$R_{eq} = \\frac{e_{terre}}{\\lambda_{terre}}+\\frac{e_{paille}}{\\lambda_{paille}}=0.64°C.m²/WC$ et donc $U_{cotes} = 1.54 W/m².°C$\n"
   ]
  },
  {
   "cell_type": "code",
   "execution_count": 4,
   "metadata": {},
   "outputs": [],
   "source": [
    "U_avant=2.5\n",
    "U_arriere=1/(3*1/10+0.04/1.)\n",
    "U_cotes= 1/(0.05/lambdaTerre+0.03/lambdaPaille+0.1)"
   ]
  },
  {
   "cell_type": "markdown",
   "metadata": {},
   "source": [
    "Calcul des différentes aires: Dimension du four -> 45x27x38. Avec l'isolant: 65cmx48cmx27cm \n",
    "1. Face avant: $A_{avant} = 0.65*0.48=0.312m²$\n",
    "2. Face arrière: $A_{arrière} = A_{avant}$\n",
    "3. Les côtés: $A_{cotes} = 2*0.48*0.27+ 2*0.65*0.27=0.61 m²$ - on suppose que le sol est isolé de la même manière que les côtés."
   ]
  },
  {
   "cell_type": "code",
   "execution_count": 5,
   "metadata": {},
   "outputs": [
    {
     "name": "stdout",
     "output_type": "stream",
     "text": [
      "Aire avant & arrière:  0.312 m² \n",
      " Aire des côtés:  0.6102000000000001 m²\n"
     ]
    }
   ],
   "source": [
    "L=0.65 #longueur rectangle de la porte\n",
    "l=0.48 #largeur rectangle de la porte\n",
    "p=0.27 #profondeur du four\n",
    "A_avant=L*l \n",
    "A_arriere = L*l\n",
    "A_cotes=2*l*p+2*L*p\n",
    "print(\"Aire avant & arrière: \",A_avant,\"m² \\n\",\"Aire des côtés: \", A_cotes,\"m²\")"
   ]
  },
  {
   "cell_type": "markdown",
   "metadata": {},
   "source": [
    "**Calcul du coefficient UA du four**: $UA= U_{avant}*A_{avant}+U_{arriere}*A_{arriere}+U_{cotes}*A_{cotes} = 1.9 W/°C $"
   ]
  },
  {
   "cell_type": "code",
   "execution_count": 6,
   "metadata": {},
   "outputs": [
    {
     "name": "stdout",
     "output_type": "stream",
     "text": [
      "UA =  2.513039129308111  W/m².°C\n"
     ]
    }
   ],
   "source": [
    "UA=U_avant*A_avant+U_arriere*A_arriere+U_cotes*A_cotes\n",
    "print(\"UA = \",UA,\" W/m².°C\")"
   ]
  },
  {
   "cell_type": "markdown",
   "metadata": {},
   "source": [
    "### Estimation de la puissance d'entrée"
   ]
  },
  {
   "cell_type": "markdown",
   "metadata": {},
   "source": [
    "La puissance d'entrée $P_{in}$ doit être déterminée afin de savoir le nombre de miroirs nécessaires. On le fait à partir des données précédentes et des choix faits, en termes d'inertie thermique, et donc d'épaisseur et de la nature des matériaux, et également en température visée et temps de chauffe. Ce dernier dépend également du soleil arrivant sur le four!"
   ]
  },
  {
   "cell_type": "code",
   "execution_count": 7,
   "metadata": {
    "scrolled": true
   },
   "outputs": [
    {
     "name": "stdout",
     "output_type": "stream",
     "text": [
      "Masse de terre: 45.765 \n",
      " Inertie thermique: 41188.5 J/°C\n",
      "Temps caractéristique:  4.552754418571271  h\n"
     ]
    }
   ],
   "source": [
    "mTerre=rhoTerre*(2*l*p*0.05+2*L*p*0.05)\n",
    "It=mTerre*CpTerre\n",
    "print(\"Masse de terre:\", mTerre,\"\\n\",\"Inertie thermique:\",It,\"J/°C\")\n",
    "tau=It/UA/3600\n",
    "print(\"Temps caractéristique: \",tau,\" h\")"
   ]
  },
  {
   "cell_type": "markdown",
   "metadata": {},
   "source": [
    "A l'arrache, on peut prendre pour les pertes thermiques durant le taux de chauffe entre la différence de température au début et à la fin. On trouve alors $P_{in} = q_{pertes}+I_t * \\frac{\\Delta T}{\\Delta t}$"
   ]
  },
  {
   "cell_type": "code",
   "execution_count": 8,
   "metadata": {},
   "outputs": [
    {
     "name": "stdout",
     "output_type": "stream",
     "text": [
      "Les pertes thermiques moyennes sur la chauffe sont de:  226.17352163772998  W\n",
      "Temps de chauffe:  3.0  h\n",
      " Puissance de chauffe moyenne:  912.64852163773  W\n",
      "Energie des héliostats estimée:  600  W/m² \n",
      " Aire d'héliostats :  1.5210808693962168  m²\n",
      " Nombre d'héliostats:  4.875259196782746 avec une aire de  0.312  m² , ce qui donne un carré de  0.5585696017507576  m de côté.\n"
     ]
    }
   ],
   "source": [
    "from math import sqrt\n",
    "T_four= 200\n",
    "T_ext=20\n",
    "qPertes=UA*(T_four-T_ext)/2\n",
    "print(\"Les pertes thermiques moyennes sur la chauffe sont de: \", qPertes,\" W\")\n",
    "delta_t_Chauff = 3*3600 #temps de chauffe du four en secondes à T_four\n",
    "qChauff=It*(T_four-T_ext)/delta_t_Chauff+qPertes\n",
    "print(\"Temps de chauffe: \",delta_t_Chauff/3600,\" h\\n\",\"Puissance de chauffe moyenne: \", qChauff,\" W\")\n",
    "P_helios = 600 #W/m²: puissance moyenne arrivant des héliostats\n",
    "aire_heliostats = qChauff/P_helios #nombre d'héliostats\n",
    "aire_1Helios = L*l\n",
    "cote_1Helios=sqrt(aire_1Helios)\n",
    "nb_heliostats= aire_heliostats/(L*l)\n",
    "print(\"Energie des héliostats estimée: \",P_helios,\" W/m² \\n\",\"Aire d'héliostats : \",\n",
    "      aire_heliostats,\" m²\\n\",\"Nombre d'héliostats: \",nb_heliostats, \"avec une aire de \",aire_1Helios,\" m²\",\n",
    "      \", ce qui donne un carré de \",cote_1Helios, \" m de côté.\")"
   ]
  },
  {
   "cell_type": "code",
   "execution_count": 9,
   "metadata": {},
   "outputs": [],
   "source": [
    "N_helios = 10 # Nombre d'héliostats dans la suite du code"
   ]
  },
  {
   "cell_type": "markdown",
   "metadata": {},
   "source": [
    "10 héliostats de 0.3 m² semblent adapté à la situation calculé ci-dessus. **Mesurer la taille de l'image pour savoir!!!!**"
   ]
  },
  {
   "cell_type": "markdown",
   "metadata": {},
   "source": [
    "## Méthodologie mathématique"
   ]
  },
  {
   "cell_type": "markdown",
   "metadata": {},
   "source": [
    "### Design des miroirs"
   ]
  },
  {
   "cell_type": "markdown",
   "metadata": {},
   "source": [
    "Nous allons calculer la relation entre la longueur de la corde nécessaire pour connecter les deux bords. A voir distinction entre "
   ]
  },
  {
   "cell_type": "markdown",
   "metadata": {},
   "source": [
    "![heliostats](../images/heliostats.png)"
   ]
  },
  {
   "cell_type": "markdown",
   "metadata": {},
   "source": [
    "### Position optimal à design donné"
   ]
  },
  {
   "cell_type": "markdown",
   "metadata": {},
   "source": [
    "Nous nous basons dans un repère $(O,Ox,Oy,Oz)$. Le vecteur solaire $\\vec{s}$ est tel que décrit dans le chapitre Emplacement du soleil, calculable via l'algorithme PSA.\n",
    "\n",
    "Nous allons distinguer deux cas: soit la machine est orienté vers le sud, soit la machine est orienté face au soleil, avec le four entre les deux."
   ]
  },
  {
   "cell_type": "markdown",
   "metadata": {},
   "source": [
    "#### Cas 1: Machine face au soleil"
   ]
  },
  {
   "cell_type": "markdown",
   "metadata": {},
   "source": [
    "Cela revient à ce que le soleil soit situé au sud, avec la hauteur correspondante. On considère donc un repère qui aurait rotaté de manière à avoir le vecteur (Oy) le dos au soleil. Le vecteur solaire s'écrit alors $\\vec{s} = \\begin{pmatrix}\n",
    "0 \\\\\n",
    "-\\cos(\\gamma) \\\\\n",
    "\\sin(\\gamma) \\\\\n",
    "\\end{pmatrix}$\n",
    " avec $\\gamma$ l'élevation."
   ]
  },
  {
   "cell_type": "markdown",
   "metadata": {},
   "source": [
    "La suite de rotation à faire pour arriver dans la position voulue est:\n",
    "1. Rotation de $-\\beta$ autour de l'axe x. Cette base est la base $\\mathbb{B}_1$.\n",
    "2. Rotation de $+\\alpha_i$ autour de l'axe z. Cette base est la base $\\mathbb{B}_2$."
   ]
  },
  {
   "cell_type": "markdown",
   "metadata": {},
   "source": [
    "Les matrices de rotation donne $P_{01}=Mat_{\\mathbb{B}_0}(\\mathbb{B}_1) \\,P_{12}=Mat_{\\mathbb{B}_1}(\\mathbb{B}_2)$.\n",
    "\n",
    "D'où: $P_{01}=\\begin{pmatrix}\n",
    "1 & 0 & 0 \\\\\n",
    "0 & \\cos(\\beta) & -\\sin(\\beta) \\\\\n",
    "0 & \\sin(\\beta) & \\cos(\\beta) \\\\\n",
    "\\end{pmatrix}$\n",
    "\n",
    "et $P_{12} = \\begin{pmatrix}\n",
    "\\cos(\\alpha_i) & \\sin(\\alpha_i) & 0 \\\\\n",
    "-\\sin(\\alpha_i) & \\cos(\\alpha_i) & 0 \\\\\n",
    "0 & 0 & 1 \\\\\n",
    "\\end{pmatrix}$"
   ]
  },
  {
   "cell_type": "markdown",
   "metadata": {},
   "source": [
    "La normale au panneau dans la base $\\mathbb{B}_2$ s'écrit: $\\vec{n}_2 = \\begin{pmatrix} 0 \\\\ -\\sin(\\beta_i) \\\\ \\cos(\\beta_i) \\end{pmatrix}$\n",
    "De $\\vec{n}_2 = P_{01}*P_{12}*\\vec{n}_0$, nous pouvons tirer: $\\vec{n}_0=P_{21}*P_{10}*\\vec{n}_2$, d'où:\n",
    "\n",
    "$\\vec{n}_0=\\begin{pmatrix}\n",
    "-\\sin(\\alpha_i)*\\cos(\\beta+\\beta_i) \\\\\n",
    "-\\cos(\\alpha_i)*\\cos(\\beta+\\beta_i) \\\\\n",
    "\\sin(\\beta+\\beta_i) \\\\\n",
    "\\end{pmatrix}\n",
    "$"
   ]
  },
  {
   "cell_type": "markdown",
   "metadata": {},
   "source": [
    "Or la normale optimale au panneau ($\\vec{n}_{opt,i}$) est le vecteur au milieu entre le vecteur solaire ($\\vec{s}$) et le vecteur pointant sur la cible. Par conséquent, cela donne: \n",
    "$\\vec{n}_{opt,i} = \\frac{\\vec{s}+\\vec{M_iT}/||g_i||}{2}$ avec $g_i=||\\vec{M_iT}||$ la distance entre le miroir et la cible."
   ]
  },
  {
   "cell_type": "markdown",
   "metadata": {},
   "source": [
    "La position du centre du miroir: $M_i=(il,L+\\mu \\sin(\\beta),h_0+\\mu \\cos(\\beta)) \\approx (il,L,h_0+\\mu)$. i peut être négatif, sur le dessin varie de -2 à 2."
   ]
  },
  {
   "cell_type": "markdown",
   "metadata": {},
   "source": [
    "La position de la cible $T=(0,0,h)$ - correspond au centre du four."
   ]
  },
  {
   "cell_type": "markdown",
   "metadata": {},
   "source": [
    "D'où: $\\vec{n}_{opt,i} = \\frac{1}{2} \\begin{pmatrix}\n",
    "-\\frac{i*l}{g_i} \\\\\n",
    "-\\cos(\\gamma)-\\frac{L}{g_i} \\\\\n",
    "\\sin(\\gamma)+\\frac{h-h_0-\\mu}{g_i}\\\\\n",
    "\\end{pmatrix}$"
   ]
  },
  {
   "cell_type": "markdown",
   "metadata": {},
   "source": [
    "On cherche maintenant le $\\alpha_i$ tel que la fonction $f_i: \\alpha_i \\to ||\\vec{n}_{opt,i}-\\vec{n}_{0,i}(\\alpha_i)||²$ soit minimisé. Cela donne:\n",
    "$\\frac{\\partial f}{\\partial \\alpha_i} = \\frac{1}{4"
   ]
  },
  {
   "cell_type": "markdown",
   "metadata": {},
   "source": [
    "#### Cas 2: Machine et four fixe - orienté sud"
   ]
  },
  {
   "cell_type": "markdown",
   "metadata": {},
   "source": [
    "Dans ce cas, le vecteur solaire prend toute sa forme: $\\vec{s}=\\begin{pmatrix} \\sin(\\alpha)*\\cos(\\gamma) \\\\\n",
    "\\cos(\\alpha)*\\cos(\\gamma) \\\\\n",
    "\\sin(\\gamma) \\end{pmatrix}$"
   ]
  },
  {
   "cell_type": "markdown",
   "metadata": {},
   "source": [
    "La normale optimale s'écrit alors: \n",
    "$\\vec{n}_{opt,i} = \\frac{1}{||\\vec{s}+\\vec{M_iT}/g_i||} \\begin{pmatrix}\n",
    "\\sin(\\alpha)*\\cos(\\gamma)-\\frac{i*l}{g_i} \\\\\n",
    "\\cos(\\alpha)*\\cos(\\gamma)-\\frac{L}{g_i} \\\\\n",
    "\\sin(\\gamma)+\\frac{h-h_0-\\mu}{g_i}\\\\\n",
    "\\end{pmatrix}$"
   ]
  },
  {
   "cell_type": "markdown",
   "metadata": {},
   "source": [
    "La normale s'écrit toujours: $\\vec{n}_0=\\begin{pmatrix}\n",
    "-\\sin(\\alpha_i)*\\cos(\\beta+\\beta_i) \\\\\n",
    "-\\cos(\\alpha_i)*\\cos(\\beta+\\beta_i) \\\\\n",
    "\\sin(\\beta+\\beta_i) \\\\\n",
    "\\end{pmatrix}\n",
    "$"
   ]
  },
  {
   "cell_type": "markdown",
   "metadata": {},
   "source": [
    "On décide de designer pour un jour et une heure précise: cela permet d'obtenir les $\\beta_i$ par une expression régulière, ce qui est assez satisfaisant, ainsi que de fixer $\\beta=0$ à cette heure-là, correspondant à l'heure maximale d'utilisation.  de les fixer, puis de calculer les résultats (effet cosinus, spillage??). Il suffit pour cela de résoudre $\\vec{n}_{opt,i}=\\vec{n}_{0,i}$\n",
    "\n",
    "On obtient: $tan(\\alpha_i) = \\frac{\\sin(\\alpha)*\\cos(\\gamma)-i*l/g_i}{\\cos(\\alpha)*\\cos(\\gamma)-L/g_i}$ et $\\sin(\\beta_i) = \\sin(\\gamma)+(h-h_0-d)/g_i$"
   ]
  },
  {
   "cell_type": "code",
   "execution_count": 264,
   "metadata": {},
   "outputs": [
    {
     "name": "stdout",
     "output_type": "stream",
     "text": [
      "-0.7386891890394839   -0.7386891890394838\n"
     ]
    }
   ],
   "source": [
    "sunvec=solarVectorFromDeclinHour(solarDeclinationByDayNumber(120),(15*pi/180)*(10-12),45*pi/180)\n",
    "i=0\n",
    "nopt=n_opt(i,sunvec)\n",
    "alpha_i=atan(nopt[0]/nopt[1])\n",
    "beta_i=asin(nopt[2])"
   ]
  },
  {
   "cell_type": "code",
   "execution_count": 268,
   "metadata": {},
   "outputs": [],
   "source": [
    "lBetaI=[]\n",
    "for i in range(imin,imax+1):\n",
    "    nopt=n_opt(i,sunvec)\n",
    "    lBetaI.append(asin(nopt[2]))"
   ]
  },
  {
   "cell_type": "code",
   "execution_count": 309,
   "metadata": {},
   "outputs": [
    {
     "data": {
      "text/plain": [
       "array([-0.03940799,  0.0224391 ,  1.18021801])"
      ]
     },
     "execution_count": 309,
     "metadata": {},
     "output_type": "execute_result"
    }
   ],
   "source": [
    "i=-3\n",
    "sunvecTest=solarVectorFromDeclinHour(solarDeclinationByDayNumber(140),(15*pi/180)*(10-12),45*pi/180)\n",
    "beta=optBeta(sunvecTest,lBetaI)\n",
    "nopt=n_opt(i,sunvecTest)\n",
    "alpha_i=atan(nopt[0]/nopt[1])\n",
    "realTarget(i,sunvecTest,alpha_i,0.1,lBetaI[i-imin])"
   ]
  },
  {
   "cell_type": "code",
   "execution_count": 205,
   "metadata": {},
   "outputs": [],
   "source": [
    "import numpy as np\n",
    "from math import pi,acos,atan2,asin\n",
    "\n",
    "class Target:\n",
    "    def __init__(self,position,lRectangle,LRectangle):\n",
    "        self.x=position[0] #position du centre\n",
    "        self.y=position[1] #idem\n",
    "        self.z=position[2] #idem\n",
    "        self.posC = np.array(position) #idem en array\n",
    "        self.l=lRectangle #largeur du rectangle\n",
    "        self.L=LRectangle #Longueur du rectangle\n",
    "\n",
    "class Miroir:\n",
    "    def __init__(self,positionCentre,beta_i,target,lRectangle,LRectangle):\n",
    "        self.x=positionCentre[0] #position du centre\n",
    "        self.y=positionCentre[1] #idem\n",
    "        self.z=positionCentre[2] #idem\n",
    "        self.posC = np.array(positionCentre) #idem en array\n",
    "        self.beta_i=beta_i #angle de design incliné du miroir\n",
    "        self.target=target #cible (classe ci-dessus)\n",
    "        self.vecCible = np.array([self.target.x-self.x,self.target.y-self.y,self.target.z-self.z]) #vecteur cible\n",
    "        self.dCible = np.linalg.norm(self.vecCible) #distance à la cible\n",
    "        self.vecCibleUnit = self.vecCible/self.dCible #vecteur cible unité\n",
    "        self.alpha_i = 0. #angle de réglage de l'azimuth\n",
    "        self.beta=0. #angle de réglage de la barre \n",
    "        self.l=lRectangle #largeur du rectangle\n",
    "        self.L=LRectangle #Longueur du rectangle\n",
    "        \n",
    "    #Renvoie le vecteur héliostat-cible\n",
    "    def M_iT(self):\n",
    "        return np.array([targ.x-self.x,targ.y-self.y,targ.z-self.z])\n",
    "    \n",
    "    #le même normé\n",
    "    def M_iTNorm(self):\n",
    "        vec = self.M_iT()\n",
    "        return vec/np.linalg.norm(vec)   \n",
    "        \n",
    "        #Normale optimale du miroir\n",
    "    def n_opt(self,sunvec):\n",
    "        vec = (sunvec.npArr()+self.M_iTNorm())\n",
    "        return vec/np.linalg.norm(vec)\n",
    "        \n",
    "        #normale du miroir\n",
    "    def n_0(self):\n",
    "        coco=cos(self.beta+self.beta_i)\n",
    "        n0=np.array([sin(self.alpha_i)*coco,cos(self.alpha_i)*coco,sin(self.beta+self.beta_i)])\n",
    "        return n0\n",
    "        \n",
    "        #cible du miroir\n",
    "    def realTarget(self,sunvec):\n",
    "        n0=self.n_0()\n",
    "        theta=2*acos(n0.dot(sunvec.npArr()))\n",
    "            #On résoud le système d'équations\n",
    "        ax=(n0[1]/n0[2]*sunvec.z-sunvec.y)/(sunvec.x-n0[0]/n0[2]*sunvec.z)\n",
    "        bx=-sin(theta/2)/(sunvec.x-n0[0]/n0[2]*sunvec.z)\n",
    "        az=-ax*n0[0]/n0[2]-n0[1]/n0[2]\n",
    "        bz=-bx*n0[0]/n0[2]\n",
    "        a=1+ax**2+az**2\n",
    "        b=2*(az*bz+ax*bx)\n",
    "        c=bz**2+bx**2-1\n",
    "        delta=b**2-4*a*c\n",
    "        uy=-b/(2*a)\n",
    "        ux=ax*uy+bx\n",
    "        uz=az*uy+bz\n",
    "        u=np.array([ux,uy,uz])\n",
    "        tSurU=sin(theta/2)\n",
    "        tSurN=cos(theta/2)\n",
    "        t=tSurU*u+tSurN*n0\n",
    "        return t*self.dCible+self.posC\n",
    "        \n",
    "        #pertes cosinus par rapport au DNI\n",
    "    def cosineEfficiency(self,sunvec):\n",
    "        return self.n_0().dot(sunvec.npArr())\n",
    "        \n",
    "    def isInRectangle(self,point,posC,L,l):\n",
    "        if((posC[0]-L/2<point[0]) & (posC[0]+L/2>point[0]) & (posC[1]-l/2 < point[1]) & (posC[1]+l/2 >point[1])):\n",
    "            return True\n",
    "        else:\n",
    "            return False\n",
    "        \n",
    "    def countTrue(self,listBool):\n",
    "        rez=0\n",
    "        for i in range(len(listBool)):\n",
    "            if(listBool[i]):\n",
    "                rez+=1\n",
    "        return rez\n",
    "        \n",
    "        #pertes dues au spillage -- on vise à côté -> renvoie 1 si tout est dedans, 0 si tout à l'extérieur, \n",
    "        #et taille du rectangle dans la cible divisé par taille du miroir si seulement une partie\n",
    "        #taille de l'image -> supposé égale au miroir\n",
    "    def spillageEfficiency(self,sunvec):\n",
    "        tPrime=self.realTarget(sunvec)\n",
    "        TP = np.array([-tPrime[0],tPrime[2]]) # dans le plan (O,-x,z) -- comme si on était de face\n",
    "        T = np.array([-self.target.x,self.target.z])\n",
    "        [A,B,C,D] = [T-[self.target.L/2,self.target.l/2],TP-[self.target.L/2,-self.target.l/2],\n",
    "                         TP+[self.target.L/2,self.target.l/2],TP+[self.target.L/2,-self.target.l/2]]\n",
    "        listRec=[A,B,C,D]\n",
    "        [AP,BP,CP,DP] = [TP-[self.L/2,self.l/2],TP-[self.L/2,-self.l/2],TP+[self.L/2,self.l/2],TP+[self.L/2,-self.l/2]]\n",
    "        listIm=[AP,BP,CP,DP]\n",
    "        areIn=list(map(lambda point : self.isInRectangle(point, T, self.target.L,self.target.l),listIm)) #liste de booléens qui dit quels points sont dedans\n",
    "        combien=self.countTrue(areIn)\n",
    "        if(combien ==0): #aucun point dans la cible\n",
    "            return 0\n",
    "        elif(combien==4): #tout les points dedans\n",
    "            return 1\n",
    "        elif(combien ==1): #un point dedans\n",
    "            if(areIn[0]):\n",
    "                return (T[0]+self.target.L/2-AP[0])*(T[1]+self.target.l/2-AP[1])/(self.l*self.L)\n",
    "            elif(areIn[1]):\n",
    "                return (T[0]+self.target.L/2-BP[0])*(BP[1]-(T[1]-self.target.l/2))/(self.l*self.L)\n",
    "            elif(areIn[2]):\n",
    "                return (CP[0]-(T[0]-self.target.L/2))*(CP[1]-(T[1]-self.target.l/2))/(self.l*self.L)\n",
    "            elif(areIn[3]):\n",
    "                return (DP[0]-(T[0]-self.target.L/2))*(T[1]+self.target.l/2-DP[1])/(self.l*self.L)\n",
    "        elif (combien==2): #deux points (forcément côte à côte) dedans\n",
    "            if(areIn[0] & areIn[1]):\n",
    "                return (T[0]+self.L/2-AP[0])/self.L\n",
    "            elif(areIn[1] & areIn[2]):\n",
    "                return (BP[1]-(T[1]-self.l/2))/self.l\n",
    "            elif(areIn[2] & areIn[3]):\n",
    "                return (DP[0]-(T[0]-self.L/2))/self.L\n",
    "            elif(areIn[3] & areIn[0]):\n",
    "                return (T[1]+self.l/2-DP[1])/self.l\n",
    "            else:\n",
    "                return 0\n",
    "        else:\n",
    "            return 0\n",
    "            \n",
    "        \n",
    "        #angle alpha optimal updaté\n",
    "    def optAlpha_i(self,sunvec):\n",
    "        nopt=self.n_opt(sunvec)\n",
    "        self.alpha_i=atan2(nopt[0],nopt[1])\n",
    "        return self.alpha_i\n",
    "    \n",
    "    def optBeta(self,sunvec):\n",
    "        nopt=self.n_opt(sunvec)\n",
    "        self.beta = asin(nopt[2])-self.beta_i\n",
    "        return self.beta\n",
    "    \n",
    "    def efficiency(self,sunvec):\n",
    "        return self.cosineEfficiency(sunvec)*self.spillageEfficiency(sunvec)\n",
    "    "
   ]
  },
  {
   "cell_type": "code",
   "execution_count": 244,
   "metadata": {},
   "outputs": [],
   "source": [
    "class assemblageMiroir:\n",
    "    def __init__(self,lMiroir):\n",
    "        self.lMir = lMiroir\n",
    "        self.NMir = len(lMiroir)\n",
    "    \n",
    "    def efficaciteSomme(self,sunvec):\n",
    "        sum41=0\n",
    "        for i in range(self.NMir):\n",
    "            sum41+=self.lMir[i].efficiency(sunvec)\n",
    "        return sum41\n",
    "    \n",
    "    def setBeta(self,betaOut):\n",
    "        for i in range(self.NMir):\n",
    "            self.lMir[i].beta = betaOut\n",
    "            \n",
    "    def optAlpha_is(self,sunvec):\n",
    "        for i in range(self.NMir):\n",
    "            self.lMir[i].optAlpha_i(sunvec)\n",
    "    \n",
    "    def choisirBeta_i(self,sunvec):\n",
    "        for i in range(self.NMir):\n",
    "            self.lMir[i].beta_i = 0.\n",
    "            goodBetaI = self.lMir[i].optBeta(sunvec)\n",
    "            self.lMir[i].beta_i = goodBetaI\n",
    "        self.setBeta(0.)\n",
    "    \n",
    "    def lBetaI(self):\n",
    "        l=[]\n",
    "        for i in range(self.NMir):\n",
    "            l.append(self.lMir[i].beta_i)\n",
    "            \n",
    "        return l\n",
    "    \n",
    "    def optBeta(self,sunvec):\n",
    "        somme=0\n",
    "        for i in range(self.NMir):\n",
    "            somme+=self.lMir[i].optBeta(sunvec)\n",
    "        somme/=self.NMir\n",
    "        maxVal = -1\n",
    "        maxBeta = somme\n",
    "        for i in range(200):\n",
    "            beta = (somme*180/pi-10+i/10)*pi/180\n",
    "            self.setBeta(beta)\n",
    "            self.optAlpha_is(sunvec)\n",
    "            eff = self.efficaciteSomme(sunvec)\n",
    "            if(eff>maxVal):\n",
    "                maxVal = eff\n",
    "                maxBeta = beta\n",
    "        self.setBeta(maxBeta)\n",
    "        self.optAlpha_is(sunvec)\n",
    "        return maxVal"
   ]
  },
  {
   "cell_type": "code",
   "execution_count": 245,
   "metadata": {},
   "outputs": [],
   "source": [
    "pos = [0,0,1]\n",
    "targ = Target(pos,0.35,0.65)\n",
    "lMiroir=[]\n",
    "for i in range(-2,3):\n",
    "    lMiroir.append(Miroir([i*0.7,1,0.3],0.,targ,0.3,0.6))\n",
    "    lMiroir.append(Miroir([i*0.7,1,0.7],0.,targ,0.3,0.6))\n",
    "    lMiroir.append(Miroir([i*0.7,1,1.2],0.,targ,0.3,0.6))\n",
    "line = assemblageMiroir(lMiroir)\n",
    "sunvect = solarVector()\n",
    "sunvect.setAzimElev(pi,pi/4)\n",
    "line.choisirBeta_i(sunvect)"
   ]
  },
  {
   "cell_type": "code",
   "execution_count": 246,
   "metadata": {},
   "outputs": [
    {
     "name": "stdout",
     "output_type": "stream",
     "text": [
      "[5.453092654324839, 5.999565211400075, 8.127386138163665, 12.671095308052664, 8.12738613816366, 5.999565211400078]\n"
     ]
    }
   ],
   "source": [
    "sunvec = solarVector()\n",
    "delta = solarDeclinationByDayNumber(172)\n",
    "listSV =[]\n",
    "for h in range(9,15):\n",
    "    listSV.append(solarVectorFromDeclinHour(delta,(h-12)*15*pi/180,45*pi/180))\n",
    "listVal=[]\n",
    "for h in range(len(listSV)):\n",
    "    listVal.append(line.optBeta(listSV[h]))\n",
    "print(listVal)"
   ]
  },
  {
   "cell_type": "code",
   "execution_count": 243,
   "metadata": {},
   "outputs": [
    {
     "data": {
      "text/plain": [
       "[4.287846039649564,\n",
       " 6.107527546078424,\n",
       " 8.626078985183515,\n",
       " 13.708576940652556,\n",
       " 8.626078985183517,\n",
       " 6.107527546078424]"
      ]
     },
     "execution_count": 243,
     "metadata": {},
     "output_type": "execute_result"
    }
   ],
   "source": [
    "listVal2"
   ]
  },
  {
   "cell_type": "code",
   "execution_count": 247,
   "metadata": {},
   "outputs": [],
   "source": [
    "pos = [0,0,1.5]\n",
    "targ = Target(pos,0.35,0.65)\n",
    "lMiroir1=[]\n",
    "lMiroir2=[]\n",
    "lMiroir3=[]\n",
    "for i in range(-2,3):\n",
    "    lMiroir1.append(Miroir([i*0.7,1,0.3],0.,targ,0.3,0.6))\n",
    "    lMiroir2.append(Miroir([i*0.7,1,0.7],0.,targ,0.3,0.6))\n",
    "    lMiroir3.append(Miroir([i*0.7,1,1.2],0.,targ,0.3,0.6))\n",
    "line1 = assemblageMiroir(lMiroir1)\n",
    "line2 = assemblageMiroir(lMiroir2)\n",
    "line3 = assemblageMiroir(lMiroir3)"
   ]
  },
  {
   "cell_type": "code",
   "execution_count": 248,
   "metadata": {},
   "outputs": [],
   "source": [
    "sunvect = solarVector()\n",
    "sunvect.setAzimElev(pi,pi/4)\n",
    "line1.choisirBeta_i(sunvect)\n",
    "line2.choisirBeta_i(sunvect)\n",
    "line3.choisirBeta_i(sunvect)"
   ]
  },
  {
   "cell_type": "code",
   "execution_count": 249,
   "metadata": {},
   "outputs": [
    {
     "name": "stdout",
     "output_type": "stream",
     "text": [
      "[[1.752808921676912, 1.7956491117242106, 1.829608962372738], [2.06624428044501, 2.1018028496680556, 1.9657675946763882], [2.9725163008320887, 2.9371730196265466, 2.716389664724878], [4.773138557838215, 4.6380811506274835, 4.3115717107989004], [2.9725163008320883, 2.93717301962655, 2.7163896647248786], [2.06624428044501, 2.1018028496680556, 1.9657675946763882]]\n"
     ]
    }
   ],
   "source": [
    "sunvec = solarVector()\n",
    "delta = solarDeclinationByDayNumber(172)\n",
    "listSV =[]\n",
    "for h in range(9,15):\n",
    "    listSV.append(solarVectorFromDeclinHour(delta,(h-12)*15*pi/180,45*pi/180))\n",
    "listVal=[]\n",
    "listVal2=[]\n",
    "for h in range(len(listSV)):\n",
    "    listVal.append([line1.optBeta(listSV[h]),line2.optBeta(listSV[h]),line3.optBeta(listSV[h])])\n",
    "    listVal2.append(sum(listVal[-1]))\n",
    "print(listVal)"
   ]
  },
  {
   "cell_type": "code",
   "execution_count": 250,
   "metadata": {},
   "outputs": [
    {
     "data": {
      "text/plain": [
       "[5.378066995773861,\n",
       " 6.133814724789454,\n",
       " 8.626078985183515,\n",
       " 13.722791419264599,\n",
       " 8.626078985183517,\n",
       " 6.133814724789454]"
      ]
     },
     "execution_count": 250,
     "metadata": {},
     "output_type": "execute_result"
    }
   ],
   "source": [
    "listVal2"
   ]
  },
  {
   "cell_type": "code",
   "execution_count": null,
   "metadata": {},
   "outputs": [],
   "source": []
  },
  {
   "cell_type": "code",
   "execution_count": 152,
   "metadata": {
    "scrolled": true
   },
   "outputs": [
    {
     "data": {
      "text/plain": [
       "array([-0.13769109, -0.54801507,  0.82505796])"
      ]
     },
     "execution_count": 152,
     "metadata": {},
     "output_type": "execute_result"
    }
   ],
   "source": [
    "miro.n_opt(sunvec)"
   ]
  },
  {
   "cell_type": "code",
   "execution_count": 153,
   "metadata": {},
   "outputs": [],
   "source": [
    "miro.optBeta(sunvec)"
   ]
  },
  {
   "cell_type": "code",
   "execution_count": 154,
   "metadata": {},
   "outputs": [
    {
     "data": {
      "text/plain": [
       "0.18490661231117533"
      ]
     },
     "execution_count": 154,
     "metadata": {},
     "output_type": "execute_result"
    }
   ],
   "source": [
    "miro.beta"
   ]
  },
  {
   "cell_type": "code",
   "execution_count": 155,
   "metadata": {},
   "outputs": [
    {
     "data": {
      "text/plain": [
       "-2.895433907860867"
      ]
     },
     "execution_count": 155,
     "metadata": {},
     "output_type": "execute_result"
    }
   ],
   "source": [
    "miro.optAlpha_i(sunvec)\n",
    "miro.alpha_i"
   ]
  },
  {
   "cell_type": "code",
   "execution_count": 156,
   "metadata": {},
   "outputs": [
    {
     "data": {
      "text/plain": [
       "array([-0.13769109, -0.54801507,  0.82505796])"
      ]
     },
     "execution_count": 156,
     "metadata": {},
     "output_type": "execute_result"
    }
   ],
   "source": [
    "\n",
    "miro.n_0()"
   ]
  },
  {
   "cell_type": "code",
   "execution_count": 158,
   "metadata": {},
   "outputs": [
    {
     "data": {
      "text/plain": [
       "0.9709092545162576"
      ]
     },
     "execution_count": 158,
     "metadata": {},
     "output_type": "execute_result"
    }
   ],
   "source": [
    "miro.efficiency(sunvec)"
   ]
  },
  {
   "cell_type": "code",
   "execution_count": 1,
   "metadata": {},
   "outputs": [
    {
     "ename": "NameError",
     "evalue": "name 'L' is not defined",
     "output_type": "error",
     "traceback": [
      "\u001b[1;31m---------------------------------------------------------------------------\u001b[0m",
      "\u001b[1;31mNameError\u001b[0m                                 Traceback (most recent call last)",
      "\u001b[1;32m<ipython-input-1-3744e0a41572>\u001b[0m in \u001b[0;36m<module>\u001b[1;34m\u001b[0m\n\u001b[0;32m      1\u001b[0m \u001b[1;32mimport\u001b[0m \u001b[0mnumpy\u001b[0m \u001b[1;32mas\u001b[0m \u001b[0mnp\u001b[0m\u001b[1;33m\u001b[0m\u001b[1;33m\u001b[0m\u001b[0m\n\u001b[0;32m      2\u001b[0m \u001b[1;32mfrom\u001b[0m \u001b[0mmath\u001b[0m \u001b[1;32mimport\u001b[0m \u001b[0matan\u001b[0m\u001b[1;33m,\u001b[0m\u001b[0macos\u001b[0m\u001b[1;33m\u001b[0m\u001b[1;33m\u001b[0m\u001b[0m\n\u001b[1;32m----> 3\u001b[1;33m \u001b[0mlHe\u001b[0m\u001b[1;33m=\u001b[0m \u001b[0mL\u001b[0m \u001b[1;31m#écart entre les centres des héliostats\u001b[0m\u001b[1;33m\u001b[0m\u001b[1;33m\u001b[0m\u001b[0m\n\u001b[0m\u001b[0;32m      4\u001b[0m \u001b[0mLHe\u001b[0m \u001b[1;33m=\u001b[0m \u001b[1;36m2\u001b[0m \u001b[1;31m#écart entre barre et cible\u001b[0m\u001b[1;33m\u001b[0m\u001b[1;33m\u001b[0m\u001b[0m\n\u001b[0;32m      5\u001b[0m \u001b[0mhTarget\u001b[0m \u001b[1;33m=\u001b[0m \u001b[1;36m1\u001b[0m \u001b[1;31m# hauteur de la cible\u001b[0m\u001b[1;33m\u001b[0m\u001b[1;33m\u001b[0m\u001b[0m\n",
      "\u001b[1;31mNameError\u001b[0m: name 'L' is not defined"
     ]
    }
   ],
   "source": [
    "import numpy as np\n",
    "from math import atan,acos\n",
    "lHe= L #écart entre les centres des héliostats\n",
    "LHe = 2 #écart entre barre et cible\n",
    "hTarget = 1 # hauteur de la cible \n",
    "h_0 = 0.5 # hauteur de la barre\n",
    "d = 0.2 #hauteur du support des héliostats\n",
    "imin=-3\n",
    "imax=3\n",
    "lat=45*pi/180 #latitude\n",
    "\n",
    "\n",
    "\n",
    "#renvoie la distance héliostat-cible\"\n",
    "def g_i(i):\n",
    "    return np.linalg.norm(M_iT(i))\n",
    "\n",
    "\n",
    "\n",
    "#normale optimale du miroir au vu de la cible\n",
    "def n_opt(i,sunvec):\n",
    "    vec = (sunvec.npArr()+M_iTNorm(i))/2\n",
    "    return vec/np.linalg.norm(vec)\n",
    "\n",
    "\n",
    "    \n",
    "#normale en fonction de l'inclinaison\n",
    "def n_0(i,alpha_i,beta,beta_i):\n",
    "    coco=cos(beta+beta_i)\n",
    "    n0=np.array([-sin(alpha_i)*coco,-cos(alpha_i)*coco,sin(beta+beta_i)])\n",
    "    return n0"
   ]
  },
  {
   "cell_type": "code",
   "execution_count": 245,
   "metadata": {},
   "outputs": [
    {
     "data": {
      "text/plain": [
       "0.5105407170466245"
      ]
     },
     "execution_count": 245,
     "metadata": {},
     "output_type": "execute_result"
    }
   ],
   "source": [
    "#coût par miroir (à minimiser)\n",
    "def costPerM(i,sunvec,alpha_i,beta,beta_i):\n",
    "    diff=n_opt(i,sunvec) - n_0(i,alpha_i,beta,beta_i)\n",
    "    return np.linalg.norm(diff)\n",
    "\n",
    "# coût par ligne (à minimiser)\n",
    "def costPerLine(sunvec,beta,lBetaI):\n",
    "    sumTot=0\n",
    "    #sunvec.printVec()\n",
    "    for i in range(imin,imax+1):\n",
    "        nopt=n_opt(i,sunvec)\n",
    "        alpha_i=atan(nopt[0]/nopt[1])\n",
    "        #print(i,\" ---> \",costPerM(i,sunvec,alpha_i,beta,lBetaI[i]))\n",
    "        sumTot+=costPerM(i,sunvec,alpha_i,beta,lBetaI[i])\n",
    "    return sumTot\n",
    "\n",
    "#Approximation de la meilleure position de la barre comme moyenne des meilleures positions par héliostats\n",
    "def optBetaApprox(sunvec,lBetaI):\n",
    "    sumTot=0\n",
    "    for i in range(imin,imax+1):\n",
    "        nopt=n_opt(i,sunvec)\n",
    "        alpha_i=atan(nopt[0]/nopt[1])\n",
    "        mu_i=sin(alpha_i)*nopt[0]+cos(alpha_i)*nopt[1]\n",
    "        sumTot+=acos((nopt[2]-2*mu_i)/3)-lBetaI[i]\n",
    "    return sumTot/(imax-imin)\n",
    "\n",
    "#Angle optimal de contrôle\n",
    "def optBeta(sunvec,lBetaI):\n",
    "    def costForControl(beta):\n",
    "        return costPerLine(sunvec,beta,lBetaI)\n",
    "    x0 = 0\n",
    "    res = minimize(costForControl, x0, method='nelder-mead',\n",
    "               options={'xatol': 1e-8, 'disp': False})\n",
    "    return res.x[0]\n",
    "\n",
    "#fonction coût pour le design\n",
    "def costForDesign(lBetaI):\n",
    "    days=[100]\n",
    "    hours=[10]\n",
    "    sumTot=0\n",
    "    for day in days:\n",
    "        for hour in hours:\n",
    "            sunvec = solarVectorFromDeclinHour(solarDeclinationByDayNumber(day),15*pi/180*(hour-12),lat)\n",
    "            beta = optBeta(sunvec,lBetaI)\n",
    "            sumTot+=costPerLine(sunvec,beta,lBetaI)\n",
    "    return sumTot\n",
    "\n",
    "costForDesign([pi/4 for k in range(imin,imax+1)])"
   ]
  },
  {
   "cell_type": "code",
   "execution_count": 1,
   "metadata": {},
   "outputs": [],
   "source": [
    "from math import sin, cos, tan,asin, pi,atan2\n",
    "import numpy as np\n",
    "import copy as cp\n",
    "import datetime\n",
    "\n",
    "class solarVector:\n",
    "    def __init__(self,x=0.,y=0.,z=1.,lat = pi/4,long = 5*pi/180):\n",
    "        self.x=x\n",
    "        self.y=y\n",
    "        self.z=z\n",
    "        self.lat=lat #latitude\n",
    "        self.long = long\n",
    "        self.azim=0.\n",
    "        self.elev=0.\n",
    "        self.declin=0\n",
    "        self.hourAngle=0\n",
    "        self.h=0\n",
    "        self.calc()\n",
    "    \n",
    "    def calc(self):\n",
    "        (self.azim,self.elev)=azimElevFromSolarVector(self)\n",
    "        (self.declin,self.hourAngle)=declinHourFromSolarVector(self,self.lat)\n",
    "        self.h = 12+self.hourAngle*180/(pi*15)\n",
    "        \n",
    "    def __str__(self):\n",
    "        self.calc()\n",
    "        rez=\"x--->\"+str(self.x)+\", y--->\" +str(self.y)+\", z---> \"+str(self.z)+\"\\n\"\n",
    "        rez+=\"azimuth -> \" + str(self.azim*180/pi) +\"° , elevation -> \"+str(self.elev*180/pi)+\"° \\n\"\n",
    "        rez+=\"Declination -> \" + str(self.declin*180/pi) +\"°, hour angle -> \" +str(self.hourAngle*180/pi)+\"° \\n\"\n",
    "        return rez\n",
    "        \n",
    "    def npArr(self):\n",
    "        return np.array([self.x,self.y,self.z])\n",
    "    \n",
    "    def printAzimElev(self):\n",
    "        print('azimuth --->' +str(self.azim*180/pi) +\"°  , elevation---> \"+str(self.elev*180/pi)+\"°\")\n",
    "        \n",
    "    def printDeclinHour(self):\n",
    "        print('declinaison --->' +str(self.azim*180/pi) +\"°  , Angle horaire ---> \"+str(self.elev*180/pi)+\"°\")\n",
    "        \n",
    "    def azimElev(self):\n",
    "        self.calc()\n",
    "        return (self.azim,self.elev)\n",
    "    \n",
    "    def setAzimElev(self,azim,elev):\n",
    "        lol = solarVectorFromAzimElev(azim,elev)\n",
    "        [self.x,self.y,self.z] = [lol.x,lol.y,lol.z]\n",
    "        self.calc()\n",
    "    \n",
    "    def setDeclinHour(self,declin, hour):\n",
    "        lol = solarVectorFromDeclinHour(declin,hour,self.lat)\n",
    "        [self.x,self.y,self.z] = [lol.x,lol.y,lol.z]\n",
    "        self.calc()\n",
    "    \n",
    "    def declinHour(self):\n",
    "        self.calc()\n",
    "        return (self.declin,self.hour)\n",
    "    \n",
    "    def now(self):\n",
    "        dateNow = datetime.datetime.utcnow()\n",
    "        lol = sunPosPSA(dateNow,self.long,self.lat)\n",
    "        [self.x,self.y,self.z] = [lol.x,lol.y,lol.z]\n",
    "        self.calc()\n",
    "\n",
    "def solarVectorFromAzimElev(azim,elev):\n",
    "    sx = sin(azim) * cos(elev);\n",
    "    sy = cos(azim) * cos(elev);\n",
    "    sz = sin(elev);\n",
    "    return solarVector(sx,sy,sz);\n",
    "\n",
    "\n",
    "def azimElevFromSolarVector(s):\n",
    "    elev = asin(s.z);\n",
    "    interm = asin(s.x / cos(elev)-0.00000000000002);\n",
    "    if (s.y>0):\n",
    "        if (s.x > 0):\n",
    "            azim = interm;\n",
    "        else:\n",
    "            azim = 2 * pi + interm;\n",
    "    else:\n",
    "        azim = pi - interm;\n",
    "    return (azim,elev)\n",
    "\n",
    "def solarDeclinationByDayNumber(day):\n",
    "    Pi = 3.14159;\n",
    "    omega = (2 * Pi) / 365 * (day - 1.);\n",
    "    return 0.006918 - 0.399912 * cos(omega) - 0.006758 * cos(2 * omega) + 0.000907 * sin(2 * omega) - 0.002697 * cos(3 * omega) + 0.00148 * sin(3 * omega);\n",
    "\n",
    "def solarVectorFromDeclinHour(declination,hourAngle,lat):\n",
    "    sx = -cos(declination) * sin(hourAngle);\n",
    "    sy = sin(declination) * cos(lat) - cos(declination) * sin(lat) * cos(hourAngle);\n",
    "    sz = sin(declination) * sin(lat) + cos(declination) * cos(lat) * cos(hourAngle);\n",
    "    return solarVector(sx,sy,sz)\n",
    "\n",
    "def declinHourFromSolarVector(sunvec,lat) :\n",
    "    declin = asin((sunvec.y+sunvec.z * tan(lat)) / (cos(lat) + sin(lat) * tan(lat)));\n",
    "    interm = -asin(sunvec.x / cos(declin));\n",
    "    test = (sin(declin) * cos(lat) - sunvec.y) / (cos(declin) * sin(lat));\n",
    "    if (abs(cos(interm) - test) < 0.001):\n",
    "        hour = interm;\n",
    "    elif (sunvec.x < 0):\n",
    "        hour = pi - interm;\n",
    "    else:\n",
    "        hour = -pi - interm;\n",
    "    return (declin,hour)\n",
    "\n",
    "#Algorithme PSA, updaté avec les dernières valeurs de Blanco et al.\n",
    "def sunPosPSA(dateUTC,  dLongitude,  dLatitude):\n",
    "    [iYear, iMonth,iDay, dHours, dMinutes,  dSeconds] = [dateUTC.year,dateUTC.month,dateUTC.day,dateUTC.hour,dateUTC.minute,dateUTC.second]\n",
    "    dDecimalHours = dHours + (dMinutes+ dSeconds / 60.0) / 60.0;\n",
    "    # Calculate current Julian Day\n",
    "    liAux1 = (iMonth - 14) / 12;\n",
    "    liAux2 = (1461 * (iYear + 4800 + liAux1)) / 4 + (367 * (iMonth- 2 - 12 * liAux1)) / 12  \\\n",
    "        - (3 * ((iYear + 4900+ liAux1) / 100)) / 4 +iDay - 32075;\n",
    "    dJulianDate = (liAux2)-0.5 + dDecimalHours / 24.0;\n",
    "    # Calculate difference between current Julian Day and JD 2451545.0 \n",
    "    dElapsedJulianDays = dJulianDate - 2451545.0;\n",
    "    \n",
    "\n",
    "    # Calculate ecliptic coordinates (ecliptic longitude and obliquity of the \n",
    "    # ecliptic in radians but without limiting the angle to be less than 2*Pi \n",
    "    # (i.e., the result may be greater than 2*Pi)\n",
    "    \n",
    "    dOmega = 2.267127827 - 9.300339267*pow(10,-4) * dElapsedJulianDays;\n",
    "    dMeanLongitude = 4.895036035 + 0.01720279602 * dElapsedJulianDays; # Radians\n",
    "    dMeanAnomaly = 6.239468336 + 0.01720200135 * dElapsedJulianDays;\n",
    "    dEclipticLongitude = dMeanLongitude + 0.03338320972 * sin(dMeanAnomaly) \\\n",
    "            + 0.0003497596876 * sin(2 * dMeanAnomaly) - 0.0001544353226 \\\n",
    "            - 8.689729360*pow(10,-6) * sin(dOmega);\n",
    "    dEclipticObliquity = 0.4090904909 - 6.213605399*pow(10,-9) * dElapsedJulianDays \\\n",
    "            + 4.418094944*pow(10,-5) * cos(dOmega);\n",
    "\n",
    "\n",
    "    # Calculate celestial coordinates ( right ascension and declination ) in radians \n",
    "    # but without limiting the angle to be less than 2*Pi (i.e., the result may be \n",
    "    # greater than 2*Pi)\n",
    "    \n",
    "    dSin_EclipticLongitude = sin(dEclipticLongitude);\n",
    "    dY = cos(dEclipticObliquity) * dSin_EclipticLongitude;\n",
    "    dX = cos(dEclipticLongitude);\n",
    "    dRightAscension = atan2(dY, dX);\n",
    "    if (dRightAscension < 0.0):\n",
    "        dRightAscension = dRightAscension + 2*pi;\n",
    "    dDeclination = asin(sin(dEclipticObliquity) * dSin_EclipticLongitude);\n",
    "    \n",
    "\n",
    "    # Calculate solar vector\n",
    "    \n",
    "    dGreenwichMeanSiderealTime = 6.697096103 +0.06570984737 * dElapsedJulianDays+ dDecimalHours;\n",
    "    dLocalMeanSiderealTime = (dGreenwichMeanSiderealTime * 15 * pi / 180.+ dLongitude) ;\n",
    "    dHourAngle = dLocalMeanSiderealTime - dRightAscension;\n",
    "    return solarVectorFromDeclinHour(dDeclination, dHourAngle, dLatitude);\n",
    "\n"
   ]
  },
  {
   "cell_type": "code",
   "execution_count": 2,
   "metadata": {},
   "outputs": [],
   "source": [
    "lol=solarVector()\n",
    "lol.now()"
   ]
  },
  {
   "cell_type": "code",
   "execution_count": 3,
   "metadata": {
    "scrolled": true
   },
   "outputs": [
    {
     "name": "stdout",
     "output_type": "stream",
     "text": [
      "x--->-0.42567477528617065, y--->-0.29356455946568655, z---> 0.8559327281456093\n",
      "azimuth -> 235.40809907862774° , elevation -> 58.86293182528828° \n",
      "Declination -> 23.43162195874746°, hour angle -> 27.641180474871458° \n",
      "\n"
     ]
    }
   ],
   "source": [
    "print(lol)"
   ]
  },
  {
   "cell_type": "code",
   "execution_count": null,
   "metadata": {},
   "outputs": [],
   "source": []
  }
 ],
 "metadata": {
  "kernelspec": {
   "display_name": "Python 3",
   "language": "python",
   "name": "python3"
  },
  "language_info": {
   "codemirror_mode": {
    "name": "ipython",
    "version": 3
   },
   "file_extension": ".py",
   "mimetype": "text/x-python",
   "name": "python",
   "nbconvert_exporter": "python",
   "pygments_lexer": "ipython3",
   "version": "3.8.8"
  },
  "widgets": {
   "application/vnd.jupyter.widget-state+json": {
    "state": {},
    "version_major": 2,
    "version_minor": 0
   }
  }
 },
 "nbformat": 4,
 "nbformat_minor": 4
}
