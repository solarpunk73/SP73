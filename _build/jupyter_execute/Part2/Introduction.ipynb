{
 "cells": [
  {
   "cell_type": "markdown",
   "metadata": {},
   "source": [
    "# Introduction"
   ]
  },
  {
   "cell_type": "markdown",
   "metadata": {},
   "source": [
    "Dans cette section, de nombreux concepts sont exposés, tous étant à moyen terme un objectif de réalisation et/ou de dissémination. \n",
    "\n",
    "Nous pouvons dès aujourd'hui lister les objectifs de réalisation:\n",
    "- douche à réutilisation d'eau, solaire et électrique (un peu)\n",
    "- concentration solaire à base de plastique recyclé pour l'artisanat\n",
    "- brasserie solaire artisanale - utilisant l'énergie ci-dessus\n",
    "- mise en valeur du solaire et low-tech dans la société, et dans l'enseignement secondaire et supérieur"
   ]
  },
  {
   "cell_type": "markdown",
   "metadata": {},
   "source": [
    "Ces différente réalisations nécessiteront de la programmation pour l'automatisation, des sciences thermiques, du matériau (fonte du plastique), du métal (bricolage de vélo à tout faire), et surtout de beaucoup de bon sens. L'huile de coude sera au rendez-vous! Toutes sont donc invitées à se joindre à l'initiative, l'objectif étant de travailler dans la bonne humeur à un monde meilleur."
   ]
  },
  {
   "cell_type": "code",
   "execution_count": null,
   "metadata": {},
   "outputs": [],
   "source": []
  }
 ],
 "metadata": {
  "kernelspec": {
   "display_name": "Python 3",
   "language": "python",
   "name": "python3"
  },
  "language_info": {
   "codemirror_mode": {
    "name": "ipython",
    "version": 3
   },
   "file_extension": ".py",
   "mimetype": "text/x-python",
   "name": "python",
   "nbconvert_exporter": "python",
   "pygments_lexer": "ipython3",
   "version": "3.8.3"
  }
 },
 "nbformat": 4,
 "nbformat_minor": 4
}