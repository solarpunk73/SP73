{
 "cells": [
  {
   "cell_type": "markdown",
   "metadata": {},
   "source": [
    "# SolarPunk"
   ]
  },
  {
   "cell_type": "markdown",
   "metadata": {},
   "source": [
    "## \"Définition\""
   ]
  },
  {
   "cell_type": "markdown",
   "metadata": {},
   "source": [
    "```{margin} Traduction personelle\n",
    "Le mouvement Solarpunk est un mouvement imaginant comment le futur pourrait être si l'humanité réussissait à résoudre les défis contemporains majeurs avec une emphase sur les problèmes de pollution et de changement climatique. Le mouvement Solarpunk passe par une multitude de médias tel que la littérature, l'architecture, la mode, la musique, les tatouages et les jeux vidéos, d'une manière similaire aux mouvements tels que Steampunk et Cyberpunk; tout comme des mouvements plus établis tels que le baroque et l'impressionisme.\n",
    "```"
   ]
  },
  {
   "cell_type": "markdown",
   "metadata": {},
   "source": [
    "> Solarpunk is an art movement that envisions how the future might look if humanity succeeded in solving major contemporary challenges with an emphasis on sustainability problems such as climate change and pollution. Solarpunk describes a multitude of media such as literature, fine arts, architecture, fashion, music, tattoos, and video games in a similar manner to adjacent movements such as steampunk and cyberpunk as well as more established art movements like Baroque and Impressionism. From [Wikipédia](https://en.wikipedia.org/wiki/Solarpunk)"
   ]
  },
  {
   "cell_type": "markdown",
   "metadata": {},
   "source": [
    "![SolarPunk](../images/solarpunk.PNG)"
   ]
  },
  {
   "cell_type": "markdown",
   "metadata": {},
   "source": [
    "Le problème de la définition de l'idéologie SolarPunk se pose rapidement: il n'existe pas de défintion définitive et unique. Il s'agit donc de définir soi-même ce que l'on voit dans cette idée. Néanmoins, un certain nombre d'inspirations du municipalisme écologiste, ou encore l'écologie libertaire ([Murray Bookchin](https://fr.wikipedia.org/wiki/Murray_Bookchin)) peuvent se ressentir.\n",
    "\n",
    "Cela est évidemment dépendant d'une vision du système actuel: sur-producteur, esclavagisant des consciences et des corps, minier, hyper-rapidité, ...\n"
   ]
  },
  {
   "cell_type": "markdown",
   "metadata": {},
   "source": [
    "## Définition locale"
   ]
  },
  {
   "cell_type": "markdown",
   "metadata": {},
   "source": [
    "```{margin} Dieux solaires\n",
    "![gods](../images/gods.png)\n",
    "```"
   ]
  },
  {
   "cell_type": "markdown",
   "metadata": {},
   "source": [
    "Par définition locale, nous entendons celle donné par SolarPunk Savoie. Elle n'est évidemment pas figée et apte à être modifiée au cours du temps.\n",
    "\n",
    "La lenteur est au coeur de cette vision: le monde moderne s'est accéléré via l'utilisation des énergies fossiles, il nous semble important de ralentir le rythme et de suivre au contraire le rythme du soleil. Ce dernier nous donne la grande majorité de l'énergie nécessaire à la vie: la pousse des plantes et le cycle de vie du carbone en viennent. La température de notre planète lui est intimemnt relié: accroître la concentration en $CO_2$ de l'atmosphère retient ses rayons, ce faisant augmentant la température moyenne terrestre. \n",
    "\n",
    "Notre vie elle-même est rythmée par le soleil, jour/nuit, été/hiver, et notre corps ressent profondément son impact. Il apparaît alors logique que les religions de grande civilisation se soient basées sur le soleil (égyptiens - [Râ](https://fr.wikipedia.org/wiki/R%C3%AA), mayas - [Kinich Ahau](https://mythologica.fr/maya/kinich.htm)).\n",
    "\n",
    "Nous défendons donc une idée de lenteur de la société, à écelle humaine. Néanmoins, la libération acquise par l'homme et l'accroissement de l'espérance de vie sont vues comme un progrès. Nous ne dénigrons donc pas les avancées technologiques en tant que tel, et appelons à une remise au centre de la vie de la lenteur, du respect de soi et de l'environnement, via la transformation et la responsabilisation des acquis modernes."
   ]
  },
  {
   "cell_type": "markdown",
   "metadata": {},
   "source": [
    "## Pour aller plus loin"
   ]
  },
  {
   "cell_type": "markdown",
   "metadata": {},
   "source": [
    "La définition du mouvement SolarPunk n'étant pas de notre ressort, tout un chacun est invité à se renseigner si cela l'intéresse. De nombreux articles sont disponibles; néanmoins, la majorité des articles sont en anglais et espagnol, car l'idéologie est né en Amérique. Les premiers liens sont en français, les deux derniers en anglais.\n",
    "\n",
    "1. [Article d'Arte](https://www.arte.tv/fr/articles/tracks-solarpunk-ecologie-sf)\n",
    "2. [Suis l'élan](https://suis-lelan.fr/le-solarpunk)\n",
    "3. [Barnabé Chaillot](https://www.youtube.com/channel/UCg7HRuQ93hl9v8dTSt_XDHA) - très clairement, un solarpunk incroyable - bien qu'il ne se définisse pas comme tel?\n",
    "4. [Appropedia - Anglais](https://www.appropedia.org/Solarpunk)\n",
    "5. [Subreddit - Réseau Social en Anglais](https://www.reddit.com/r/solarpunk/)"
   ]
  },
  {
   "cell_type": "code",
   "execution_count": null,
   "metadata": {},
   "outputs": [],
   "source": []
  }
 ],
 "metadata": {
  "kernelspec": {
   "display_name": "Python 3",
   "language": "python",
   "name": "python3"
  },
  "language_info": {
   "codemirror_mode": {
    "name": "ipython",
    "version": 3
   },
   "file_extension": ".py",
   "mimetype": "text/x-python",
   "name": "python",
   "nbconvert_exporter": "python",
   "pygments_lexer": "ipython3",
   "version": "3.8.3"
  },
  "widgets": {
   "application/vnd.jupyter.widget-state+json": {
    "state": {},
    "version_major": 2,
    "version_minor": 0
   }
  }
 },
 "nbformat": 4,
 "nbformat_minor": 4
}