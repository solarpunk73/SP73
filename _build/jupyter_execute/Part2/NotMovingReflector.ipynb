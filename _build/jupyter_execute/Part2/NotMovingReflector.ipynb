{
 "cells": [
  {
   "cell_type": "markdown",
   "id": "37048a03-a9f0-4a80-81f1-6f5e35e7b2ee",
   "metadata": {},
   "source": [
    "# Miroir immobile, récepteur mobile"
   ]
  },
  {
   "cell_type": "markdown",
   "id": "44f1fcbd-ad2c-4d24-a500-37a3df3f93ee",
   "metadata": {},
   "source": [
    "## Introduction"
   ]
  },
  {
   "cell_type": "markdown",
   "id": "ed7f5964-2366-4884-b74a-94d53db59297",
   "metadata": {},
   "source": [
    "![Schéma](../images/NotMovingScheme.PNG)"
   ]
  },
  {
   "cell_type": "markdown",
   "id": "12e57ff7-7357-4128-b93f-1528893850d3",
   "metadata": {},
   "source": [
    "Le concept est d'avoir un réflecteur immobile ($\\alpha$) et un récepteur mobile (en position $\\beta(\\theta_T)$). Le récepteur mobile ne peut suivre qu'un chemin ($\\gamma$). $\\theta_T$ représente l'angle entre l'horizontal et le soleil (c'est l'angle transversal, car on parle de concentration linéaire: c'est un cyclindre qui va réfléchir sur un tube). \n",
    "\n",
    "L'objectif est de minimiser le nombre de moteurs (1, ou 2 grand maximum), avec un système de tracking très simple car il suffirait d'une ficelle ou 2. Les prix seraient alors grandement minimisés."
   ]
  },
  {
   "cell_type": "markdown",
   "id": "db4d7229-fd35-42f7-8d08-1f277ef7053f",
   "metadata": {},
   "source": [
    "## Calculs de l'efficacité optique pour l'optimisation"
   ]
  },
  {
   "cell_type": "markdown",
   "id": "bb015ce4-54f4-4fd5-bd20-6ab32b69539e",
   "metadata": {},
   "source": [
    "![Schéma2](../images/schemeOptical.png)"
   ]
  },
  {
   "cell_type": "markdown",
   "id": "72e4826f-13b2-41c2-ba2e-3be328b7d009",
   "metadata": {},
   "source": [
    "Etant donné un chemin de réflecteur $\\alpha$, mathématiquement un chemin de [0;1] dans $\\mathbb{R}²$, ainsi que le chemin possible du récepteur $\\gamma$ (les rails), il faut trouver la position $\\beta(\\theta_T)$ optimal pour un design donné (et un angle solaire), sachant que $\\beta(\\theta_T) \\in \\mathbb{T}(\\gamma) = \\{ \\gamma(s),s \\in [0;1] \\}$."
   ]
  },
  {
   "cell_type": "markdown",
   "id": "c7348aee-8c93-46c8-9d21-99e670f52615",
   "metadata": {},
   "source": [
    "Cela vient d'une optimisation: on veut maximiser le nombre de rayons sur le récepteur. On note donc $\\vec{r}(s)$ le vecteur du rayon réfléchi, $\\vec{n}(s)$ le vecteur normal à $\\alpha$. On note également $\\vec{t}(s)$ le vecteur cible (\"target\"). Enfin, le vecteur solaire (qui pointe vers le soleil) est noté $\\vec{\\sigma}$)."
   ]
  },
  {
   "cell_type": "markdown",
   "id": "64c6efc1-0b5c-47b2-82fc-b9152157a8ea",
   "metadata": {},
   "source": [
    "**Calculs des vecteurs:**\n",
    "\n",
    "1. Vecteur normal: $\\vec{n}(s) = R_{\\frac{\\pi}{2}}.\\frac{\\alpha'(s)}{||\\alpha'(s)||}$\n",
    "2. Vecteur cible: $\\vec{t}(s) = \\frac{\\beta(\\theta_T)-\\alpha(s)}{||\\beta(\\theta_T)-\\alpha(s)||}$\n",
    "3. Vecteur du rayon réfléchi: on note $\\theta_\\sigma = det(\\vec{n}(s),\\sigma).\\arccos(\\vec{n}(s).\\vec{\\sigma})$. Le déterminant permet d'orienter l'angle (à vérifier). On obtient alors: $\\vec{r}(s) = R_{\\theta_\\sigma}.\\vec{\\sigma}$.\n",
    "4. Vecteur solaire: $\\vec{\\sigma} = \\begin{pmatrix} \\cos(\\theta_T) \\\\ \\sin(\\theta_T) \\end{pmatrix}$"
   ]
  },
  {
   "cell_type": "markdown",
   "id": "62f2be03-61db-46cb-bc1b-90cd7d3e2914",
   "metadata": {},
   "source": [
    "**Intervalle d'acceptation:**\n",
    "\n",
    "Le vecteur réfléchi doit pointer dans un intervalle d'acceptation: cela est relié à l'angle du récepteur vu par le miroir (au point s). Le demi-angle d'acceptation, noté $\\theta_a$, vérifie donc: $\\theta_a = \\frac{d}{2*||\\beta(\\theta_T)-\\alpha(s)||}$, avec *d* le diamètre du récepteur. Le rayon réfléchi doit donc appartenir à l'intervalle $[R_{-\\theta_a}.\\vec{t}(s);R_{\\theta_a}.\\vec{t}(s)]$. \n",
    "\n"
   ]
  },
  {
   "cell_type": "markdown",
   "id": "05bc006e-9455-4d2d-bf0d-dc9274a488f5",
   "metadata": {},
   "source": [
    "En écrivant $\\vec{t}(s) = \\begin{pmatrix} \\cos(\\theta_t) \\\\ \\sin(\\theta_t) \\end{pmatrix}$, on obtient comme condition d'impact du rayon réfléchi sur le récepteur: $\\theta_T+\\theta_\\sigma \\in [\\theta_t-\\theta_a;\\theta_t+\\theta_a]$"
   ]
  },
  {
   "cell_type": "markdown",
   "id": "9c5b2d41-ec49-42ba-a908-3d4e98a86dcf",
   "metadata": {},
   "source": [
    "**Calcul de $\\beta(\\theta_T)$ et de l'efficacité optique $\\eta_{opt}(\\theta_T,\\alpha,\\gamma)$:**\n",
    "\n",
    "1. $\\beta(\\theta_T) = argmax_{\\beta(\\theta_T) \\in \\mathbb{T}(\\gamma)} \\int_0^1 \\mathbb{1}_{[\\theta_t-\\theta_a;\\theta_t+\\theta_a]}(\\theta_T+\\theta_\\sigma) \\ ds$\n",
    "2. $\\eta_{opt}(\\theta_T,\\alpha,\\gamma) = max_{\\beta(\\theta_T) \\in \\mathbb{T}(\\gamma)} \\int_0^1 \\mathbb{1}_{[\\theta_t-\\theta_a;\\theta_t+\\theta_a]}(\\theta_T+\\theta_\\sigma) \\ ds$"
   ]
  },
  {
   "cell_type": "markdown",
   "id": "d6db81c6-2feb-417b-847d-ba300235cb66",
   "metadata": {},
   "source": [
    "## Optimisation du design sur les chemins $\\alpha$ et $\\gamma$"
   ]
  },
  {
   "cell_type": "markdown",
   "id": "c62fedcb-0f9a-43fe-9252-a2f17581ebf3",
   "metadata": {},
   "source": [
    "Le but est d'optimiser le design afin d'avoir l'efficacité optique maximale dans un intervalle de l'angle transversal $\\theta_T$ donné. A priori, on peut partir sur un angle $\\theta_T \\in [\\frac{\\pi}{4}-\\delta;\\frac{\\pi}{4}+\\delta]$."
   ]
  },
  {
   "cell_type": "markdown",
   "id": "5adc112d-1ece-4263-ab30-6277cb1f3051",
   "metadata": {},
   "source": [
    "On pose alors l'ensemble $ G = \\{ (\\alpha,\\gamma) \\in \\mathbb{C}([0;1],\\mathbb{R}²) \\, \\alpha(0)=\\gamma(0)=(0,L) \\ \\& \\ \\alpha(1)=\\gamma(1) = (L,0)  \\}$, qui correspond à l'ensemble des chemins admissibles. Il est possible de rafiner cet ensemble en imposant que $\\alpha$ soit en dessous de $\\gamma$. Sur la concavité/convexité de $\\alpha$, il est peut-être possible de faire des hypothèses."
   ]
  },
  {
   "cell_type": "markdown",
   "id": "0336db3b-7c71-4150-a020-1bbbb2ac0f8c",
   "metadata": {},
   "source": [
    "On obtient alors les chemins optimaux comme l'expression suivante: $\\alpha_{opt},\\gamma_{opt} = argmax_{(\\alpha,\\gamma) \\in G} \\int_{\\frac{\\pi}{4}-\\delta}^{\\frac{\\pi}{4}+\\delta} \\eta_{opt}(\\theta_T,\\alpha,\\gamma) d\\theta_T$"
   ]
  },
  {
   "cell_type": "markdown",
   "id": "a199f974-34c0-4d4a-b616-38f85f58ec18",
   "metadata": {},
   "source": [
    "## Méthodologie numérique"
   ]
  },
  {
   "cell_type": "markdown",
   "id": "22a15c13-965b-4ffb-a847-92beda6627dd",
   "metadata": {},
   "source": [
    "Comment optimiser sur des chemins? A voir pour plus tard..."
   ]
  }
 ],
 "metadata": {
  "kernelspec": {
   "display_name": "Python 3",
   "language": "python",
   "name": "python3"
  },
  "language_info": {
   "codemirror_mode": {
    "name": "ipython",
    "version": 3
   },
   "file_extension": ".py",
   "mimetype": "text/x-python",
   "name": "python",
   "nbconvert_exporter": "python",
   "pygments_lexer": "ipython3",
   "version": "3.8.8"
  },
  "widgets": {
   "application/vnd.jupyter.widget-state+json": {
    "state": {},
    "version_major": 2,
    "version_minor": 0
   }
  }
 },
 "nbformat": 4,
 "nbformat_minor": 5
}