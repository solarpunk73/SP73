{
 "cells": [
  {
   "cell_type": "markdown",
   "metadata": {},
   "source": [
    "# Faire un système Photovoltaïque Maison"
   ]
  },
  {
   "cell_type": "markdown",
   "metadata": {},
   "source": [
    "La conversion de l'énergie solaire photovoltaïque est particulièrement utile pour une production d'électricité décentralisé, en autonomie des réseaux. Par exemple, pour un terrain isolé: eau douce (pompe), électricité du soir, etc. Plus les besoins sont grands, plus il faut de la surface, et donc augmente le prix et l'impact écologique dû aux productions de masses. Le plus important est donc de d'abord minimiser ses besoins avant de designer son système. Si l'objectif est de faire de la chaleur (chauffage, eau chaude sanitaire), il est plus efficace de penser à un système thermique."
   ]
  },
  {
   "cell_type": "markdown",
   "metadata": {},
   "source": [
    "## Dimensionnement rapide"
   ]
  },
  {
   "cell_type": "markdown",
   "metadata": {},
   "source": [
    "### Estimation des besoins"
   ]
  },
  {
   "cell_type": "markdown",
   "metadata": {},
   "source": [
    "#### Notion de puissance et d'énergie"
   ]
  },
  {
   "cell_type": "markdown",
   "metadata": {},
   "source": [
    "De manière générale, la puissance est de l'énergie par unité de temps; mathématiquement, $P=\\frac{dE}{dt}$ avec **P** la puissance et **E** l'énergie. Les unités de la puissance sont les Watts(**W**); ceux de l'énergie sont beaucoup plus variés: Watt-Heure (**Wh**), Joules (**J**), calories (**cal**). Dans la vie courante, on utilise en général les *Wh* dans l'électricité (facture EDF,..), les Joules dans l'énergie cinétique(Air-Soft, voitures..) , et les calories dans l'énergie thermique (informations sur les paquets de nourriture, ..). "
   ]
  },
  {
   "cell_type": "markdown",
   "metadata": {},
   "source": [
    "Il est possible de se souvenir du système de conversion d'une unité à l'autre en connaissant leur définition physique. En sciences, en France, on enseigne le [Système International](https://fr.wikipedia.org/wiki/Syst%C3%A8me_international_d%27unit%C3%A9s) (S.I.); \n",
    "1. Le Joule est donné comme l'unité de l'énergie, et tout \"fonctionne bien\": la formule de l'énergie cinétique, $E_c = \\frac{1}{2}*m*v^2$, correspond au produit de la masse m (S.I.: *kg*), de la vitesse v (S.I.: *m/s*), mise au carré. En transposant cela aux unités, cela nous donne $ J = kg \\times m^2/s^2 = kg \\times m^2 \\times s^{-2}$. De l'équation $P=\\frac{dE}{dt}$, on tire $W = J/s = kg \\times m^2 \\times s^{-3}$.\n",
    "2. Le Watt-Heure est le produit d'une puissance par le temps: $E=P\\times \\Delta t$ avec $\\Delta t$ le temps. Comme cela est indiqué dans le nom, le temps est pris en heure. $1 Wh$ correspond à une puissance d'un Watt utilisé pendant 1h. Comme $1h = 3600s$, et que $W=J/s$, alors $J=W\\times s$. Or $Wh = 3600 Ws = 3600 J$. \n",
    "3. La calorie fut historiquement une des premières mesures de l'énergie thermique. Cela correspond à l'énergie nécessaire pour élever d'un degré un litre d'eau: on peut souvent écrire $\\Delta E = m C_p \\Delta T$, avec **E** l'énergie, **m** la masse du système, $C_p$ la capacité thermique massique (J/kg.°C) et $\\Delta T$ la variation de la température. Selon le matériau considéré, le $C_p$ varie; il correspond à l'inertie du matériau, ou encore à sa capacité de *stocker* l'énergie sous forme de température. Par exemple, les roches et autres céramiques sont en général dans un intervalle de $1200 \\ J/kg.°C$ à $2400 \\ J/kg.°C$; l'eau sous forme de  vapeur se situe vers $2000J/kg.°C$, alors que l'eau liquide vers $4187 \\ J/kg.°C$. Par conséquent, une calorie correspond à $4187 J$"
   ]
  },
  {
   "cell_type": "markdown",
   "metadata": {},
   "source": [
    "#### Courant continu vs Courant alternatif"
   ]
  },
  {
   "cell_type": "markdown",
   "metadata": {},
   "source": [
    "Il est beaucoup plus simple de raisonner avec du [courant continue](https://fr.wikipedia.org/wiki/Courant_continu) que du [courant alternatif](https://fr.wikipedia.org/wiki/Courant_alternatif): dans le premier cas, la tension est constante aux bornes de l'appareil électrique, et l'intensité varie; dans le deuxième cas, il commence à y avoir des sinus partout. De plus, les panneaux photovoltaïques produisent du courant continu (CC); les batteries électriques prennent et délivrent du courant continu. Néanmoins, le réseau électrique et la majorité de nos outils utilisent du courant alternatif (230V, **50 Hz**). Mais néanmoins, une bonne partie des appareils électriques utilisent en réalité du courant continu et possèdent un dispositif électronique faisant la conversion. C'est le cas des lampes, des ordinateurs (chargeurs),..; ce n'est pas le cas des moteurs (machine à laver le linge,..). Les résistances fonctionnent avec les deux types (*?* à vérifier).\n",
    "\n",
    "Notons que les turbines (à vapeur, à eau, ..) produisent du courant alternatif (ça tourne), de même que les éoliennes et autres hydroliennes; la majorité de nos modes de production consiste donc en du courant alternatif.\n",
    "\n",
    "La conversion de l'un à l'autre est possible via de l'électronique: on parle d'un onduleur/ "
   ]
  },
  {
   "cell_type": "markdown",
   "metadata": {},
   "source": [
    "#### La puissance et l'énergie électrique"
   ]
  },
  {
   "cell_type": "markdown",
   "metadata": {},
   "source": [
    "Des formules relient la puissance (P) et l'énergie électrique (E) à l'intensité (I) et la tension (U) qui traverse les systèmes électriques: $P=U \\times I$, et donc si la puissance est constante $E=P \\times t$ avec P la puissance et t le temps.\n",
    "\n",
    "Il est donc possible d'estimer la puissance et l'énergie nécessaire à faire tourner différents appareils électriques. Par exemple, faire tourner 1 L.E.D de 5W pendant 1h prendra 5*Wh*; une brosse à dents à pile fonctionnant avec deux piles AAA (2 piles de 1.5V en série -> 3V) et nécessitant un courant en fonctionnement de 0.5*A* utilisera, pour fonctionner durant 1h, $E = P \\times t = U \\times I \\times t = 3V * 0.5A *1h = 1.5Wh$. Un Excel, fait par G. Kamerling pour dimensionner l'électrification de son camion et présent dans le dossier GitHub accessible via le bouton en haut à droite donne un bon exemple de calculs de dimensionnement."
   ]
  },
  {
   "cell_type": "markdown",
   "metadata": {},
   "source": [
    "## Description d'un système photovoltaïque"
   ]
  },
  {
   "cell_type": "markdown",
   "metadata": {},
   "source": [
    "### Le panneau"
   ]
  },
  {
   "cell_type": "markdown",
   "metadata": {},
   "source": [
    "![Panneau PV](../images/panneauPV.PNG)"
   ]
  },
  {
   "cell_type": "markdown",
   "metadata": {},
   "source": [
    "Un panneau photovoltaïque, ou panneau PV, est clairement du domaine de la *high-tech*. Le fonctionnement est complexe, l'homme s'étant approprié cette technologie via les théories de mécanique quantique. Le premier panneau PV est apparu en 1954. \n",
    "\n",
    "En sortie du panneau PV, on obtient un courant continu. La valeur du voltage et de l'intensité en sortie du panneau varie en fonction de deux choses:\n",
    "- l'énergie solaire en entrée\n",
    "- le branchement électrique en aval.\n",
    "\n",
    "De manière théorique, on observe cela sur les courbes I-V, c'est-à-dire Intensité-Voltage. Lorsque l'on impose une tension au panneau, il est alors possible de lire sur cette courbe combien d'ampères le panneau débitera. "
   ]
  },
  {
   "cell_type": "markdown",
   "metadata": {},
   "source": [
    "![IVCurve](../images/IVCurve.PNG)"
   ]
  },
  {
   "cell_type": "markdown",
   "metadata": {},
   "source": [
    "Chaque courbe I-V dépend du panneau utilisé. Le point où la puissance maximale est atteint varie, d'où le besoin d'un *MPPT* (Maximum Power Point Tracker). Moyennant quelques pertes, il devrait être possible d'éviter ce matériel, qui représente un coût supplémentaire. Je ne sais pas encore comment faire, mais je compte me renseigner. "
   ]
  },
  {
   "cell_type": "markdown",
   "metadata": {},
   "source": [
    "Un panneau photovoltaïque donne aujourd'hui, dans le commerce, un rendement d'environ 18% de la conversion d'énergie solaire. Cela correspond donc à 180 W/m², lorsqu'une irradiation solaire de de 1000W/m² est disponible -- ce qui est relativement rare.\n",
    "\n",
    "Le site [PVGIS](https://re.jrc.ec.europa.eu/pvg_tools/fr/tools.html) permet de faire la quasi-totalité des calculs qu'il est possible de faire pour estimer le rendement de son installation."
   ]
  },
  {
   "cell_type": "markdown",
   "metadata": {},
   "source": [
    "### Le MPPT"
   ]
  },
  {
   "cell_type": "markdown",
   "metadata": {},
   "source": [
    "Le *MPPT*, en plus de maximiser la production d'énergie, permet de gérer la charge de la batterie (le panneau est déconnecté si cette dernière est remplie), et peut donner accès à une prise (prise 5V, pour un téléphone - selon le MPPT), ou encore à une sortie pour onduleur. Il suffit alors de brancher le panneau et la batterie au MPPT en suivant les bons branchements."
   ]
  },
  {
   "cell_type": "markdown",
   "metadata": {},
   "source": [
    "### La batterie"
   ]
  },
  {
   "cell_type": "markdown",
   "metadata": {},
   "source": [
    "Les batteries contemporaines sont essentiellement des batteries à plomb (voitures). Les batteries lithium font néanmoins une grande montée en puissance dans le capitalisme vert moderne: la voiture électrique, sensée résoudre les problèmes de transport sans émission de $CO_2$, en est blindée. Le soucis de production est détaillé ci-bas. "
   ]
  },
  {
   "cell_type": "markdown",
   "metadata": {},
   "source": [
    "### Description personelle de la production moderne"
   ]
  },
  {
   "cell_type": "markdown",
   "metadata": {},
   "source": [
    "Dernièrement, cette technologie est déployée à grande échelle. La première motivation vient, de manière classique au XXIème siècle, du prix: le tarif est tellement descendu, de par les développement technologiques et par la production de masse, que le PV pourrait vite consister en l'énergie la moins chère (selon les régions du monde, s'entend). Cela ne va pas sans un impact écologique fort, de par l'extraction des minerais (et, principalement, leur raffinement). De même, les batteries nécessitent une grande quantité de lithium. Il est donc nécessaire, aujourd'hui et selon moi, de limiter leur usage -- en faisant une balance bénéfice/impact. Comme a pu le montrer le documentaire Arte **La face cachée des énergies vertes**, le capitalisme débridé fait bien des ravages à la justice sociale, les pays riches vivant d'une énergie propre fournie par les cancers des pays pauvres. Il me semble que le soucis est plus le capitalisme que la technologie, un grand nombre de laboratoires commençant à proposer des alternatives de construction pour des produits européens plus respectueux. L'impact n'étant jamais nul, la priorité est à la réduction des besoins (et ce de manière global)."
   ]
  },
  {
   "cell_type": "code",
   "execution_count": null,
   "metadata": {},
   "outputs": [],
   "source": []
  }
 ],
 "metadata": {
  "kernelspec": {
   "display_name": "Python 3",
   "language": "python",
   "name": "python3"
  },
  "language_info": {
   "codemirror_mode": {
    "name": "ipython",
    "version": 3
   },
   "file_extension": ".py",
   "mimetype": "text/x-python",
   "name": "python",
   "nbconvert_exporter": "python",
   "pygments_lexer": "ipython3",
   "version": "3.8.3"
  },
  "widgets": {
   "application/vnd.jupyter.widget-state+json": {
    "state": {},
    "version_major": 2,
    "version_minor": 0
   }
  }
 },
 "nbformat": 4,
 "nbformat_minor": 4
}
