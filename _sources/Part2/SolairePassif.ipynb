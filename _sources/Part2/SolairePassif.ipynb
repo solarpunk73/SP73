{
 "cells": [
  {
   "cell_type": "markdown",
   "metadata": {},
   "source": [
    "# Solaire passif"
   ]
  },
  {
   "cell_type": "markdown",
   "metadata": {},
   "source": [
    "Le solaire passif est une solution à la problématique de chauffage. En effet, les apports du soleil sont immenses: une fenêtre plein sud, comme chacun le sait, permettra de se chauffer l'hiver. Il est néanmoins nécessaire de faire un paresoleil afin de ne pas chauffer en été. Cette dyssimétrie entre le besoin et la disponibilité de l'énergie implique une grande réflexion du bâtiment. De nombreux travaux sont menés à l'INES et au sein d'INES Formation, ces derniers étant bien plus à même de répondre à des questions précises sur le sujet.\n",
    "\n",
    "Le SolarPunk est un mouvement d'imagination; nous souhaitons donc donner du rêve ici, car les possibilités sont grandes et fondamentalement intéressantes: la société a besoin d'un mythe, le SolarPunk est une des réponses!"
   ]
  },
  {
   "cell_type": "markdown",
   "metadata": {},
   "source": [
    "Nous allons ici partager et commenter un certain nombre de scan du livre **Le Guide de l'Energie Solaire**, de E. Mazria, publié en 1975. Des concepts très intéressants y sont décrits, ainsi que des solutions de calcul pour tout un chacun. Preuve, s'il en est, que tout est déjà réfléchi et calculé - il ne reste plus qu'une motivation politique (et donc sociétale) pour les mettre en place. Nous présentons ici quelques-uns de ces concepts."
   ]
  },
  {
   "cell_type": "markdown",
   "metadata": {},
   "source": [
    "## Organisation de l'espace de vie"
   ]
  },
  {
   "cell_type": "markdown",
   "metadata": {},
   "source": [
    "```{margin} Organisation de la maison\n",
    "Une organisation logique permet un gain d'énergie solaire utile: situer les pièces de vie au sud, où le chauffage solaire est assuré en hiver, permet de diminuer la nécessité d'un chauffage d'appoint.\n",
    "```"
   ]
  },
  {
   "cell_type": "markdown",
   "metadata": {},
   "source": [
    "<img src=\"../images/Guide/OrgMaison.jpg\" alt=\"organisation de la maison\" style=\"width: 400px;\"/>"
   ]
  },
  {
   "cell_type": "markdown",
   "metadata": {},
   "source": [
    "```{margin} Répartition des fenêtres\n",
    "Nous pouvons voir ici une idée de répartition des fenêtres, assurant un meilleur chauffage.\n",
    "```"
   ]
  },
  {
   "cell_type": "markdown",
   "metadata": {},
   "source": [
    "<img src=\"../images/Guide/OrgFenetre.jpg\" alt=\"organisation de la maison\" style=\"width: 400px;\"/>"
   ]
  },
  {
   "cell_type": "markdown",
   "metadata": {},
   "source": [
    "## Dissymétrie Hiver/Eté"
   ]
  },
  {
   "cell_type": "markdown",
   "metadata": {},
   "source": [
    "```{margin} Elevation\n",
    "Le soleil change de hauteur dans le ciel, de par le mouvement de la Terre. Au solstice de printemps et d'automne, à midi heure solaire, il se trouve à un angle d'élevation égal à 90° - latitude. En France, c'est donc environ 45°. Il bougera ensuite, par rapport à cette position, de +23.5° (solstice d'été) à -23.5° (solstice d'hiver).\n",
    "```"
   ]
  },
  {
   "cell_type": "markdown",
   "metadata": {},
   "source": [
    "<img src=\"../images/Guide/elevation.jpg\" alt=\"organisation de la maison\" style=\"width: 400px;\"/>"
   ]
  },
  {
   "cell_type": "markdown",
   "metadata": {},
   "source": [
    "```{margin} Position dans le ciel\n",
    "Connaitre la position du soleil s'avère très pratique dans de nombreux cas (perdu dans la forêt, solaire passif, actif, ..). Voici un graphique de sa position et une façon utile de le présenter, entre azimuth et élévation.\n",
    "```"
   ]
  },
  {
   "cell_type": "markdown",
   "metadata": {},
   "source": [
    "<img src=\"../images/Guide/PositionSoleil.jpg\" alt=\"Position du Soleil\" style=\"width: 400px;\"/>"
   ]
  },
  {
   "cell_type": "markdown",
   "metadata": {},
   "source": [
    "```{margin} Eté et hiver\n",
    "Il ne faut pas chauffer en été, c'est même plutôt l'inverse. Cette illustration montre comment le changement de position du soleil doit être utilisé et connu pour bien disposer ses claires-voies.\n",
    "```"
   ]
  },
  {
   "cell_type": "markdown",
   "metadata": {},
   "source": [
    "<img src=\"../images/Guide/DyssimEteHiver.jpg\" alt=\"Angles\" style=\"width: 400px;\"/>"
   ]
  },
  {
   "cell_type": "markdown",
   "metadata": {},
   "source": [
    "## Réflecteurs et usages du toit"
   ]
  },
  {
   "cell_type": "markdown",
   "metadata": {},
   "source": [
    "```{margin} Réflecteurs sur toit\n",
    "L'usage de ces réflecteurs est triple: en hiver, de jour, il permet de gagner de l'énergie solaire en entrée direct. En hiver, de nuit, il sert d'isolant; en été, de jour, il sert de protection solaire.\n",
    "```"
   ]
  },
  {
   "cell_type": "markdown",
   "metadata": {},
   "source": [
    "<img src=\"../images/Guide/ReflToit.jpg\" alt=\"Murs capteurs \" style=\"width: 400px;\"/>"
   ]
  },
  {
   "cell_type": "markdown",
   "metadata": {},
   "source": [
    "```{margin} Claires-voies et lanterneaus\n",
    "Apport direct par le toit; la claire-voie permet de gérer la différence été/hiver. Le lanterneau lui nécessite la disposition d'un protecteur solaire.\n",
    "```"
   ]
  },
  {
   "cell_type": "markdown",
   "metadata": {},
   "source": [
    "<img src=\"../images/Guide/ClaireVoieLanterneau.jpg\" alt=\"Claire voie et lanterneau\" style=\"width: 400px;\"/>"
   ]
  },
  {
   "cell_type": "markdown",
   "metadata": {},
   "source": [
    "```{margin} Toits Bassins\n",
    "Mettre un bassin sur son toit est à bien réfléchir en amont! Mais les avantages sont non négligeables, de par l'inertie thermique très élevée de l'eau.\n",
    "```"
   ]
  },
  {
   "cell_type": "markdown",
   "metadata": {},
   "source": [
    "<img src=\"../images/Guide/ToitBassinconcept.jpg\" alt=\"Murs capteurs \" style=\"width: 400px;\"/>"
   ]
  },
  {
   "cell_type": "markdown",
   "metadata": {},
   "source": [
    "```{margin} Autres dispositions\n",
    "Il est possible de mettre le bassin en intérieur, et de le chauffer par une claire-voie. Une petite piscine serait-elle envisageable?\n",
    "```"
   ]
  },
  {
   "cell_type": "markdown",
   "metadata": {},
   "source": [
    "<img src=\"../images/Guide/bassinToit.jpg\" alt=\"Bassins toit\" style=\"width: 400px;\"/>"
   ]
  },
  {
   "cell_type": "markdown",
   "metadata": {},
   "source": [
    "## Mur d'eau & Inertie thermique"
   ]
  },
  {
   "cell_type": "markdown",
   "metadata": {},
   "source": [
    "```{margin} Murs capteurs\n",
    "Les murs capteurs vont stocker l'énergie solaire, grâce à leur inertie thermique. Des calculs précis sont nécessaires, car il existe une taille optimale du mur, entre conduction et inertie.\n",
    "Les murs d'eau ont une très grande inertie: l'eau est le matériau avec la plus grande inertie par kilogrammes, $C_p = 4187 J/kg.°C$\n",
    "```"
   ]
  },
  {
   "cell_type": "markdown",
   "metadata": {},
   "source": [
    "<img src=\"../images/Guide/MurCapteur.jpg\" alt=\"Murs capteurs \" style=\"width: 400px;\"/>"
   ]
  },
  {
   "cell_type": "markdown",
   "metadata": {},
   "source": [
    "```{margin} Chauffage\n",
    "Ici, le soleil chauffe un mur d'eau intérieur par le biais d'une claire-voie.\n",
    "```"
   ]
  },
  {
   "cell_type": "markdown",
   "metadata": {},
   "source": [
    "<img src=\"../images/Guide/MurEauChauffe.jpg\" alt=\"Mur d'eau en intérieur\" style=\"width: 400px;\"/>"
   ]
  },
  {
   "cell_type": "markdown",
   "metadata": {},
   "source": [
    "```{margin} Stockage\n",
    "Il y a de nombreuses solutions de stockage par inertie thermique. en voici quelques-unes. en dehors du mur capteur/accumulateur, nous pouvons également voir un stockage actif: des galets, chauffés par le soleil, dont la chaleur est récupérée par l'utilisation d'un ventilateur.\n",
    "```"
   ]
  },
  {
   "cell_type": "markdown",
   "metadata": {},
   "source": [
    "<img src=\"../images/Guide/StockageDirect.jpg\" alt=\"Stoquer\" style=\"width: 400px;\"/>"
   ]
  },
  {
   "cell_type": "markdown",
   "metadata": {},
   "source": [
    "## Serres attenantes, enterrées"
   ]
  },
  {
   "cell_type": "markdown",
   "metadata": {},
   "source": [
    "Les serres permettent énormément de choses. Entre autre, une serre attenante permettra un chauffage partiel de la maison: moins efficace qu'une fenêtre pour chauffer la maison, mais avec un gain d'espace pour la pousse de végétaux. D'autant plus que la chauffe de la maison permettra de tenir la serre un peu plus chaude qu'isolée."
   ]
  },
  {
   "cell_type": "markdown",
   "metadata": {},
   "source": [
    "```{margin} Serre et inertie\n",
    "On peut voir ici une serre attenante, avec l'utilisation d'un système de stockage par galets et courant d'air.\n",
    "```"
   ]
  },
  {
   "cell_type": "markdown",
   "metadata": {},
   "source": [
    "<img src=\"../images/Guide/StockageSerre.jpg\" alt=\"Stockage Serre\" style=\"width: 400px;\"/>"
   ]
  },
  {
   "cell_type": "markdown",
   "metadata": {},
   "source": [
    "```{margin} Serre enfouie\n",
    "On peut voir ici une serre enfouie côté nord, ce qui permet une isolation simple et rapide.\n",
    "```"
   ]
  },
  {
   "cell_type": "markdown",
   "metadata": {},
   "source": [
    "<img src=\"../images/Guide/SerreEnfouie.jpg\" alt=\"Serre Enfouie\" style=\"width: 400px;\"/>"
   ]
  },
  {
   "cell_type": "markdown",
   "metadata": {},
   "source": [
    "```{margin} Serre avec inertie\n",
    "Une serre avec de l'inertie n'aura pas besoin de stockage d'appoint. Voici une disposition possible.\n",
    "```"
   ]
  },
  {
   "cell_type": "markdown",
   "metadata": {},
   "source": [
    "<img src=\"../images/Guide/SerreStockage.jpg\" alt=\"Serre Stockante\" style=\"width: 400px;\"/>"
   ]
  }
 ],
 "metadata": {
  "kernelspec": {
   "display_name": "Python 3",
   "language": "python",
   "name": "python3"
  },
  "language_info": {
   "codemirror_mode": {
    "name": "ipython",
    "version": 3
   },
   "file_extension": ".py",
   "mimetype": "text/x-python",
   "name": "python",
   "nbconvert_exporter": "python",
   "pygments_lexer": "ipython3",
   "version": "3.8.3"
  },
  "widgets": {
   "application/vnd.jupyter.widget-state+json": {
    "state": {},
    "version_major": 2,
    "version_minor": 0
   }
  }
 },
 "nbformat": 4,
 "nbformat_minor": 4
}
