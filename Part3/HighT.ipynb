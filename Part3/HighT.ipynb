{
 "cells": [
  {
   "cell_type": "markdown",
   "metadata": {},
   "source": [
    "# La Concentration Ponctuelle"
   ]
  },
  {
   "cell_type": "markdown",
   "metadata": {},
   "source": [
    "La concentration ponctuelle utilise des miroirs bougeant en deux dimensions pour traquer le soleil et le réfléchir vers un point (0D). Quatres technologies sont les plus présentes: l'assiette parabolique (ou *dish* ), les centrales à tour, les fours solaires et les lentilles Fresnel. La première, mal traduite, est en général de petite taille; la deuxième peut être étendu jusqu'à de gigantesques champs solaires, la troisième de monter à 3000°C et la quatrième permet d'allumer du feu (tel une loupe)."
   ]
  },
  {
   "cell_type": "markdown",
   "metadata": {},
   "source": [
    "## L'assiette parabolique"
   ]
  },
  {
   "cell_type": "markdown",
   "metadata": {},
   "source": [
    "Le dish concentre la lumière en son foyer, ce qui limite sa taille du à la prise au vent (et son coût). Il permet d'atteindre des centaines de degrés en quelques instants, quitte à percer le métal. Il est possible de produire de l'électricité via un moteur stirling. L'assiette suit le soleil, faisant de ce système celui atteignant l'efficacité optique la plus élevée."
   ]
  },
  {
   "cell_type": "markdown",
   "metadata": {},
   "source": [
    "### Equation de courbure"
   ]
  },
  {
   "cell_type": "markdown",
   "metadata": {},
   "source": [
    "La courbure d'un dish suit la courbe $y² = 4xf$, avec *f* la longeur focale de la parabole (distance du centre à l'emplacement du foyer), et x le projeté de la courbe sur l'axe de la focale."
   ]
  },
  {
   "cell_type": "markdown",
   "metadata": {},
   "source": [
    "## Les centrales à tour"
   ]
  },
  {
   "cell_type": "markdown",
   "metadata": {},
   "source": [
    "Ces centrales sont particulièrement vues au niveau industriel: des centaines de miroir réfléchissent le soleil sur une tour. Un fluide est chauffé (des sels fondus, en général) à haute température puis stocké dans une cuve, avant de passer par un échangeur pour chauffer de l'eau qui sera injecté dans une turbine. Le rendement solaire à électrique est d'environ 20% en général, avec la possibilité de stocker à bas coût une dizaine d'heure de puissance de la centrale. Cela conduit à démultiplier le champ de miroirs afin de stocker une partie de l'énergie et de l'injecter dans le réseau plus tard. Les sels fondus ne sont pas vus comme le future des centrales à tour: il y a un certain focus sur l'utilisation du sable comme fluide caloporteur, ce qui coûterait bien moins cher.\n",
    "\n",
    "Il est évidemment possible d'adapter ce système à des petites structures, comme un four solaire artisanal par exemple."
   ]
  },
  {
   "cell_type": "markdown",
   "metadata": {},
   "source": [
    "Le récepteur se doit de bien absorber la lumière du soleil, et ne pas émettre trop de chaleur. Cela se joue sur la "
   ]
  }
 ],
 "metadata": {
  "kernelspec": {
   "display_name": "Python 3",
   "language": "python",
   "name": "python3"
  },
  "language_info": {
   "codemirror_mode": {
    "name": "ipython",
    "version": 3
   },
   "file_extension": ".py",
   "mimetype": "text/x-python",
   "name": "python",
   "nbconvert_exporter": "python",
   "pygments_lexer": "ipython3",
   "version": "3.8.8"
  },
  "widgets": {
   "application/vnd.jupyter.widget-state+json": {
    "state": {},
    "version_major": 2,
    "version_minor": 0
   }
  }
 },
 "nbformat": 4,
 "nbformat_minor": 4
}
