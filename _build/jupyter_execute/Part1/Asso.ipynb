{
 "cells": [
  {
   "cell_type": "markdown",
   "metadata": {},
   "source": [
    "# Association"
   ]
  },
  {
   "cell_type": "markdown",
   "metadata": {},
   "source": [
    "Sur cette page, vous pourrez trouver les status de l'association. Cette dernière se réclame des dernières mouvances égalitaires. En particulier, aucun sexisme, homophobie, racisme et autres concepts néfastes à toutes communautés ne seront acceptés au sein de l'association - nous sommes toutes égales. \n",
    "\n",
    "Dans cette dynamique, l'association sera autogérée, les différents postes administratifs n'ayant aucune implication de pouvoir.\n",
    "\n",
    "Les objectifs sont sociétaux. Nous souhaitons montrer que l'énergie solaire ne se résume pas au photovoltaïque, et que son intérêt pour la population humaine et savoyarde sous ses différents aspects peut être énorme si bien utilisé. Cela passera par l'élaboration de maquette, prototype, .. et de participation à différents événements culturels. Evidemment, il faudra qu'il fasse beau!"
   ]
  },
  {
   "cell_type": "markdown",
   "metadata": {},
   "source": [
    "**Le besoin de mythes fondateurs**: Comme cela est souligné dans le livre *Voyage en Misarchie*, de E.Dockès, la société a besoin de mythe pour se projeter et se construire, organisant des milliers de gens interconnectés. Le SolarPunk répond à ce besoin et propose un nouveau mythe, celui d'une planète où il fait bon vivre, avec une humanité en harmonie avec elle-même et la nature."
   ]
  },
  {
   "cell_type": "markdown",
   "metadata": {},
   "source": [
    "## Statuts"
   ]
  },
  {
   "cell_type": "markdown",
   "metadata": {},
   "source": [
    "Article 1: etc etc. "
   ]
  },
  {
   "cell_type": "markdown",
   "metadata": {},
   "source": [
    "## Nous contacter"
   ]
  },
  {
   "cell_type": "markdown",
   "metadata": {},
   "source": [
    "Il est possible de nous contacter à l'adresse suivante: solarpunk73@prontonmail.com ."
   ]
  },
  {
   "cell_type": "code",
   "execution_count": null,
   "metadata": {},
   "outputs": [],
   "source": []
  }
 ],
 "metadata": {
  "kernelspec": {
   "display_name": "Python 3",
   "language": "python",
   "name": "python3"
  },
  "language_info": {
   "codemirror_mode": {
    "name": "ipython",
    "version": 3
   },
   "file_extension": ".py",
   "mimetype": "text/x-python",
   "name": "python",
   "nbconvert_exporter": "python",
   "pygments_lexer": "ipython3",
   "version": "3.8.3"
  }
 },
 "nbformat": 4,
 "nbformat_minor": 4
}